{
 "cells": [
  {
   "cell_type": "markdown",
   "metadata": {},
   "source": [
    "# **문자열 포매팅**\n",
    "\n",
    "* 문자열 안에 어떤 값을 삽입하는 방법\n",
    "\n",
    "1. C언어 스타일 % 포맷 연산자\n",
    "2. 내장함수 format() 함수 사용\n",
    "3. f-string 사용"
   ]
  },
  {
   "cell_type": "code",
   "execution_count": 1,
   "metadata": {},
   "outputs": [
    {
     "name": "stdout",
     "output_type": "stream",
     "text": [
      "오늘은 8월 23일 입니다.\n"
     ]
    }
   ],
   "source": [
    "# %포맷 연산자\n",
    "# 문제점 :\n",
    "# 오른쪽 튜플 내의 변수 순서 바꾸거나 형식 지정자의 타입을 바꾸면 오류\n",
    "# 변수의 개수가 많아지거나 복잡해지면 가독성 떨어짐\n",
    "# 같은 값을 여러번 사용하고 싶다면 튜플 내에서 같은 값을 여러번 반복해야함\n",
    "# Format 함수를 사용한 포매팅\n",
    "# python3 부터 사용가능\n",
    "\n",
    "month = 8\n",
    "day = 23\n",
    "print(\"오늘은 %d월 %d일 입니다.\" % (month, day))\n"
   ]
  },
  {
   "cell_type": "code",
   "execution_count": 2,
   "metadata": {},
   "outputs": [
    {
     "name": "stdout",
     "output_type": "stream",
     "text": [
      "오늘은 8월 23일 입니다.\n"
     ]
    }
   ],
   "source": [
    "# % 기호 대신 {} 기호 사용한다. 자료형을 선언 할 필요가 없다.\n",
    "\n",
    "month = 8\n",
    "day = 23\n",
    "print(\"오늘은 {}월 {}일 입니다.\".format(month, day))"
   ]
  },
  {
   "cell_type": "code",
   "execution_count": 3,
   "metadata": {},
   "outputs": [
    {
     "name": "stdout",
     "output_type": "stream",
     "text": [
      "오늘은 8월 23일 입니다.\n"
     ]
    }
   ],
   "source": [
    "# f 문자열 포매팅\n",
    "\n",
    "# 파이썬 3.6버전부터 사용가능\n",
    "\n",
    "# 문자열 앞에 f접두사를 붙이면 f문자열 포매팅 사용 가능\n",
    "\n",
    "month = 8\n",
    "day = 23\n",
    "print(f'오늘은 {month}월 {day}일 입니다.')"
   ]
  },
  {
   "cell_type": "code",
   "execution_count": 4,
   "metadata": {},
   "outputs": [
    {
     "name": "stdout",
     "output_type": "stream",
     "text": [
      "나는 내년이면 14살이 된다.\n"
     ]
    }
   ],
   "source": [
    "# 표현식 사용 가능\n",
    "\n",
    "age = 13\n",
    "print(f'나는 내년이면 {age+1}살이 된다.')"
   ]
  },
  {
   "cell_type": "code",
   "execution_count": 5,
   "metadata": {},
   "outputs": [
    {
     "name": "stdout",
     "output_type": "stream",
     "text": [
      "나의 이름은 홍길동이고 나이는 21세야.\n",
      "나의 이름은 홍길동이고 나이는 21세야.\n",
      "나의 이름은 홍길동이고 나이는 21세야.\n"
     ]
    }
   ],
   "source": [
    "# 세가지 포맷 비교\n",
    "\n",
    "# 처리시간은 f-string이 제일 빠름!!\n",
    "\n",
    "import time\n",
    "\n",
    "name = '홍길동'\n",
    "age = 21\n",
    "\n",
    "print('나의 이름은 %s이고 나이는 %d세야.' % (name, age))\n",
    "print('나의 이름은 {}이고 나이는 {}세야.'.format(name, age))\n",
    "print(f'나의 이름은 {name}이고 나이는 {age}세야.')"
   ]
  },
  {
   "cell_type": "code",
   "execution_count": 6,
   "metadata": {},
   "outputs": [
    {
     "data": {
      "text/plain": [
       "2"
      ]
     },
     "execution_count": 6,
     "metadata": {},
     "output_type": "execute_result"
    }
   ],
   "source": [
    "# count\n",
    "\n",
    "a = 'hobby'\n",
    "a.count('b')"
   ]
  },
  {
   "cell_type": "code",
   "execution_count": 7,
   "metadata": {},
   "outputs": [
    {
     "data": {
      "text/plain": [
       "0"
      ]
     },
     "execution_count": 7,
     "metadata": {},
     "output_type": "execute_result"
    }
   ],
   "source": [
    "# find/index\n",
    "\n",
    "a='hobby'\n",
    "a.find('y') # 문자 위치 알려주기 (찾는문자 없으면 -1 반환)\n",
    "a.index('h') # 문자 위치 알려주기 (찾는문자 없으면 에러)"
   ]
  },
  {
   "cell_type": "code",
   "execution_count": 8,
   "metadata": {},
   "outputs": [
    {
     "name": "stdout",
     "output_type": "stream",
     "text": [
      "a.b.c.d\n",
      "a b c d\n"
     ]
    }
   ],
   "source": [
    "# join\n",
    "\n",
    "print(\".\".join('abcd'))\n",
    "\n",
    "a='abcd'\n",
    "print(\" \".join(a))"
   ]
  },
  {
   "cell_type": "code",
   "execution_count": 9,
   "metadata": {},
   "outputs": [
    {
     "name": "stdout",
     "output_type": "stream",
     "text": [
      "HI\n",
      "kjw\n"
     ]
    }
   ],
   "source": [
    "# upper/lower\n",
    "\n",
    "a = 'hi'\n",
    "print(a.upper())\n",
    "b = 'KJW'\n",
    "print(b.lower())"
   ]
  },
  {
   "cell_type": "code",
   "execution_count": 10,
   "metadata": {},
   "outputs": [
    {
     "data": {
      "text/plain": [
       "'hi dain'"
      ]
     },
     "execution_count": 10,
     "metadata": {},
     "output_type": "execute_result"
    }
   ],
   "source": [
    "# replace\n",
    "\n",
    "a = 'hi taein'\n",
    "a.replace('taein', 'dain')"
   ]
  },
  {
   "cell_type": "code",
   "execution_count": 11,
   "metadata": {},
   "outputs": [
    {
     "name": "stdout",
     "output_type": "stream",
     "text": [
      "Python\n",
      "is\n",
      "fun!\n",
      "['a', 'b', 'c', 'd']\n"
     ]
    }
   ],
   "source": [
    "# split\n",
    "\n",
    "a = 'Python is fun!'\n",
    "x, y, z = a.split() # 괄호 안을 비우면 스페이스바, 콤마이면 ,를 괄호 안에 적으면 된다.\n",
    "print(x)\n",
    "print(y)\n",
    "print(z)\n",
    "\n",
    "c = 'a b c d'\n",
    "x = c.split() # 문자열이 몇개 나올지 모를때는 리스트로 넣어준다.\n",
    "print(x)"
   ]
  },
  {
   "cell_type": "code",
   "execution_count": 12,
   "metadata": {},
   "outputs": [
    {
     "name": "stdout",
     "output_type": "stream",
     "text": [
      "2\n",
      "3\n"
     ]
    }
   ],
   "source": [
    "# map : 리스트 안에 변수를 한번에 자료형을 바꿔준다\n",
    "\n",
    "a=['2','3']\n",
    "x, y = map(int,a)\n",
    "print(x)\n",
    "print(y)"
   ]
  },
  {
   "cell_type": "code",
   "execution_count": null,
   "metadata": {},
   "outputs": [],
   "source": []
  }
 ],
 "metadata": {
  "kernelspec": {
   "display_name": "Python 3.10.5 64-bit",
   "language": "python",
   "name": "python3"
  },
  "language_info": {
   "codemirror_mode": {
    "name": "ipython",
    "version": 3
   },
   "file_extension": ".py",
   "mimetype": "text/x-python",
   "name": "python",
   "nbconvert_exporter": "python",
   "pygments_lexer": "ipython3",
   "version": "3.10.5"
  },
  "orig_nbformat": 4,
  "vscode": {
   "interpreter": {
    "hash": "fb4569285eef3a3450cb62085a5b1e0da4bce0af555edc33dcf29baf3acc1368"
   }
  }
 },
 "nbformat": 4,
 "nbformat_minor": 2
}
