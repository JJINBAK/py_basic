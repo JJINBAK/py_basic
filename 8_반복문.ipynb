{
 "cells": [
  {
   "cell_type": "markdown",
   "metadata": {},
   "source": [
    "# 반복문(for, while)"
   ]
  },
  {
   "cell_type": "code",
   "execution_count": 2,
   "metadata": {},
   "outputs": [
    {
     "name": "stdout",
     "output_type": "stream",
     "text": [
      "* * * * * "
     ]
    }
   ],
   "source": [
    "# 별 5개 출력하기(while)\n",
    "\n",
    "i = 1\n",
    "while i<=5:\n",
    "    print('*', end=\" \")\n",
    "    i += 1"
   ]
  },
  {
   "cell_type": "code",
   "execution_count": null,
   "metadata": {},
   "outputs": [],
   "source": [
    "# 별 5개 출력하기(for)\n",
    "\n",
    "for i in range(1,6): # 슬라이싱처럼 6은 제외되는 숫자임\n",
    "    print('*')\n",
    "\n",
    "for i in range(1,6,2):\n",
    "    print('*')\n",
    "\n",
    "for i in range(1,11):\n",
    "    print(i,end=\" \")\n",
    "\n",
    "j = 1\n",
    "print(\"\\n\")\n",
    "while j<=10:\n",
    "    print(j, end=\" \")\n",
    "    j += 1"
   ]
  },
  {
   "cell_type": "code",
   "execution_count": 3,
   "metadata": {},
   "outputs": [
    {
     "name": "stdout",
     "output_type": "stream",
     "text": [
      "2 4 6 8 10 "
     ]
    }
   ],
   "source": [
    "# 1부터 10까지 수 중에서 짝수만 출력하기(for)\n",
    "\n",
    "for i in range(2,11,2):\n",
    "    print(i,end=\" \")"
   ]
  },
  {
   "cell_type": "code",
   "execution_count": 4,
   "metadata": {},
   "outputs": [
    {
     "name": "stdout",
     "output_type": "stream",
     "text": [
      "10 9 8 7 6 5 4 3 2 1 "
     ]
    }
   ],
   "source": [
    "# 10부터 1까지 출력하기\n",
    "\n",
    "for i in range(10,0,-1):\n",
    "    print(i, end = \" \")"
   ]
  },
  {
   "cell_type": "code",
   "execution_count": 5,
   "metadata": {},
   "outputs": [
    {
     "name": "stdout",
     "output_type": "stream",
     "text": [
      "총합은 5050\n",
      "5050\n"
     ]
    }
   ],
   "source": [
    "# 1부터 100까지 합구하기\n",
    "\n",
    "summ = 0 # sum이라는 함수가 있어서 변수명으로 사용 불가능\n",
    "for i in range(1,101):\n",
    "    summ = summ + i\n",
    "print(f\"총합은 {summ}\")\n",
    "\n",
    "i = 1\n",
    "my_sum = 0\n",
    "while i<=100:\n",
    "    my_sum += i\n",
    "    i += 1\n",
    "print(my_sum)"
   ]
  },
  {
   "cell_type": "code",
   "execution_count": 6,
   "metadata": {},
   "outputs": [
    {
     "name": "stdout",
     "output_type": "stream",
     "text": [
      "46\n"
     ]
    }
   ],
   "source": [
    "# 1씩 증가시키면서 더할때 몇을 더할때 1000을 넘는지\n",
    "\n",
    "i = 1\n",
    "limit = 1000\n",
    "my_sum = 0\n",
    "\n",
    "while my_sum<=limit:\n",
    "    my_sum += i\n",
    "    i += 1\n",
    "print(i)"
   ]
  },
  {
   "cell_type": "code",
   "execution_count": 7,
   "metadata": {},
   "outputs": [
    {
     "name": "stdout",
     "output_type": "stream",
     "text": [
      "입력한 숫자의 합 :  6\n",
      "30\n"
     ]
    }
   ],
   "source": [
    "# 숫자를 5개 입력받아 합 구하기\n",
    "\n",
    "my_sum = 0\n",
    "while 1:\n",
    "    i = input(\"숫자를 입력하세요.(종료 : q) : \")\n",
    "    if i == 'q':\n",
    "        break\n",
    "    my_sum += int(i)\n",
    "print('입력한 숫자의 합 : ', my_sum)"
   ]
  },
  {
   "cell_type": "code",
   "execution_count": 8,
   "metadata": {},
   "outputs": [
    {
     "name": "stdout",
     "output_type": "stream",
     "text": [
      "30\n"
     ]
    }
   ],
   "source": [
    "i = 0\n",
    "my_sum = 0\n",
    "while i<10:\n",
    "    i+=1\n",
    "    if i%2 != 0:\n",
    "        continue\n",
    "    my_sum += i\n",
    "print(my_sum)"
   ]
  },
  {
   "cell_type": "code",
   "execution_count": 9,
   "metadata": {},
   "outputs": [
    {
     "name": "stdout",
     "output_type": "stream",
     "text": [
      "{'사과': 1000, '오렌지': 1500, '바나나': 2000, '딸기': 3000}\n"
     ]
    }
   ],
   "source": [
    "key_list = ['사과','오렌지','바나나','딸기']\n",
    "value_list = [1000,1500,2000,3000]\n",
    "my_dict = {}\n",
    "\n",
    "for i in range(0,len(key_list)):\n",
    "    my_dict[key_list[i]] = value_list[i]\n",
    "\n",
    "print(my_dict)"
   ]
  },
  {
   "cell_type": "code",
   "execution_count": 10,
   "metadata": {},
   "outputs": [
    {
     "name": "stdout",
     "output_type": "stream",
     "text": [
      "국어\n",
      "영어\n",
      "수학\n",
      "과학\n"
     ]
    }
   ],
   "source": [
    "a = ['국어','영어','수학','과학']\n",
    "for i in range(len(a)):\n",
    "    print(a[i])"
   ]
  },
  {
   "cell_type": "code",
   "execution_count": 11,
   "metadata": {},
   "outputs": [
    {
     "name": "stdout",
     "output_type": "stream",
     "text": [
      "국어\n",
      "영어\n",
      "수학\n",
      "과학\n"
     ]
    }
   ],
   "source": [
    "for i in a:\n",
    "    print(i)"
   ]
  },
  {
   "cell_type": "code",
   "execution_count": 12,
   "metadata": {},
   "outputs": [
    {
     "name": "stdout",
     "output_type": "stream",
     "text": [
      "[30, 20, 10, 10]\n"
     ]
    }
   ],
   "source": [
    "a = ['국어','영어','수학','과학']\n",
    "b = []\n",
    "for i in a:\n",
    "    b.append(int(input(f'{i} 점수를 입력하시오 : ')))\n",
    "print(b)"
   ]
  },
  {
   "cell_type": "code",
   "execution_count": 13,
   "metadata": {},
   "outputs": [
    {
     "name": "stdout",
     "output_type": "stream",
     "text": [
      "{'국어': 10, '영어': 20, '수학': 30, '과학': 40}\n"
     ]
    }
   ],
   "source": [
    "a = ['국어','영어','수학','과학']\n",
    "b = {}\n",
    "for i in a:\n",
    "    b[i] = int(input(f'{i} 점수를 입력하시오 : '))\n",
    "print(b)"
   ]
  },
  {
   "cell_type": "code",
   "execution_count": 15,
   "metadata": {},
   "outputs": [
    {
     "name": "stdout",
     "output_type": "stream",
     "text": [
      "주어진 영어 단어의 뜻을 입력하세요.\n",
      "정답입니다.\n",
      "정답입니다.\n",
      "정답입니다.\n",
      "정답입니다.\n",
      "정답입니다.\n",
      "테스트가 완료되었습니다.\n"
     ]
    }
   ],
   "source": [
    "eng_dict = {'apple':'사과', 'banana':'바나나', 'peach':'복숭아', 'orange':'오렌지', 'strawberry':'딸기'}\n",
    "print('주어진 영어 단어의 뜻을 입력하세요.')\n",
    "for i in eng_dict:\n",
    "    ans = input(f'{i} ? : ')\n",
    "    if ans == eng_dict[i]:\n",
    "        print(\"정답입니다.\")\n",
    "    else:\n",
    "        print(\"오답입니다.\")\n",
    "print(\"테스트가 완료되었습니다.\")"
   ]
  },
  {
   "cell_type": "code",
   "execution_count": 16,
   "metadata": {},
   "outputs": [
    {
     "name": "stdout",
     "output_type": "stream",
     "text": [
      "{1: 3, 2: 4, 6: 1, 8: 2, 4: 3, 3: 3, 9: 3, 5: 2, 7: 2}\n"
     ]
    }
   ],
   "source": [
    "# 리스트에 숫자가 몇 번 등장하는지 딕셔너리에 넣어 출력하기\n",
    "\n",
    "num = [1,2,6,8,4,3,2,1,9,5,4,9,7,2,1,3,5,4,8,9,7,2,3]\n",
    "counter = {}\n",
    "for i in num:\n",
    "    if i in counter:\n",
    "        counter[i] += 1\n",
    "    else:\n",
    "        counter[i] = 1\n",
    "\n",
    "print(counter)"
   ]
  },
  {
   "cell_type": "code",
   "execution_count": 18,
   "metadata": {},
   "outputs": [
    {
     "name": "stdout",
     "output_type": "stream",
     "text": [
      "1 1\n",
      "1 2\n",
      "1 3\n",
      "\n",
      "2 1\n",
      "2 2\n",
      "2 3\n",
      "\n"
     ]
    }
   ],
   "source": [
    "a = list(range(0,10,1))\n",
    "a\n",
    "\n",
    "for i in range(1,3):\n",
    "    for j in range(1,4):\n",
    "        print(i, j)\n",
    "    print( )"
   ]
  },
  {
   "cell_type": "code",
   "execution_count": 19,
   "metadata": {},
   "outputs": [
    {
     "name": "stdout",
     "output_type": "stream",
     "text": [
      "[1, 2, 3]\n",
      "1\n",
      "2\n",
      "3\n",
      "[4, 5, 6, 7]\n",
      "4\n",
      "5\n",
      "6\n",
      "7\n",
      "[8, 9]\n",
      "8\n",
      "9\n"
     ]
    }
   ],
   "source": [
    "a = [[1,2,3],[4,5,6,7],[8,9]]\n",
    "for i in a:\n",
    "    print(i)\n",
    "    for j in i:\n",
    "        print(j)"
   ]
  },
  {
   "cell_type": "code",
   "execution_count": 20,
   "metadata": {},
   "outputs": [
    {
     "name": "stdout",
     "output_type": "stream",
     "text": [
      "* \n",
      "* * \n",
      "* * * \n",
      "* * * * \n",
      "* * * * * \n"
     ]
    }
   ],
   "source": [
    "# 을 이용하여 직각삼각형 그리기 (i:1~5)\n",
    "\n",
    "for i in range(5):\n",
    "    for j in range(0,i+1):\n",
    "        print('*',end = ' ')\n",
    "    print( )"
   ]
  },
  {
   "cell_type": "code",
   "execution_count": 22,
   "metadata": {},
   "outputs": [
    {
     "name": "stdout",
     "output_type": "stream",
     "text": [
      "* * * * * \n",
      "* * * * \n",
      "* * * \n",
      "* * \n",
      "* \n",
      "\n",
      "* \n",
      "* * \n",
      "* * * \n",
      "* * * * \n",
      "* * * * * \n",
      "\n",
      "* \n",
      "* * \n",
      "* * * \n",
      "* * * * \n",
      "* * * * * \n"
     ]
    }
   ],
   "source": [
    "# 역삼각형 별찍기\n",
    "\n",
    "for i in range(5):\n",
    "    for j in range(5-i):\n",
    "        print('*',end = ' ')\n",
    "    print( )\n",
    "\n",
    "print( )\n",
    "\n",
    "for i in range(1,6):\n",
    "    print('* '*i)\n",
    "\n",
    "print( )\n",
    "\n",
    "for i in range(5,0,-1):\n",
    "    for j in range(6-i):\n",
    "        print('*',end = ' ')\n",
    "    print( )"
   ]
  },
  {
   "cell_type": "code",
   "execution_count": null,
   "metadata": {},
   "outputs": [],
   "source": []
  }
 ],
 "metadata": {
  "kernelspec": {
   "display_name": "Python 3.10.5 64-bit",
   "language": "python",
   "name": "python3"
  },
  "language_info": {
   "codemirror_mode": {
    "name": "ipython",
    "version": 3
   },
   "file_extension": ".py",
   "mimetype": "text/x-python",
   "name": "python",
   "nbconvert_exporter": "python",
   "pygments_lexer": "ipython3",
   "version": "3.10.5"
  },
  "orig_nbformat": 4,
  "vscode": {
   "interpreter": {
    "hash": "fb4569285eef3a3450cb62085a5b1e0da4bce0af555edc33dcf29baf3acc1368"
   }
  }
 },
 "nbformat": 4,
 "nbformat_minor": 2
}
