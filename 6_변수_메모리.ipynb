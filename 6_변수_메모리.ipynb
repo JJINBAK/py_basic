{
 "cells": [
  {
   "cell_type": "markdown",
   "metadata": {},
   "source": [
    "# **변수 & 메모리**\n",
    "\n",
    "1. 변수 이름 규칙\n",
    "- 영문자와 숫자 사용\n",
    "- 대소문자 구별\n",
    "- 문자부터 시작해야함('_'로 시작 가능, 숫자로 시작 안됨)\n",
    "- 특수문자 사용 불가\n",
    "- 파이썬 예약어(if, for, while 등)는 사용 불가"
   ]
  },
  {
   "cell_type": "code",
   "execution_count": 1,
   "metadata": {},
   "outputs": [
    {
     "name": "stdout",
     "output_type": "stream",
     "text": [
      "None\n"
     ]
    }
   ],
   "source": [
    "# 빈 변수 만들기\n",
    "\n",
    "x = None\n",
    "print(x)"
   ]
  },
  {
   "cell_type": "code",
   "execution_count": 2,
   "metadata": {},
   "outputs": [],
   "source": [
    "# 변수의 값 변경하기\n",
    "\n",
    "x = 10\n",
    "x = 20\n",
    "x = 30+40"
   ]
  },
  {
   "cell_type": "code",
   "execution_count": 3,
   "metadata": {},
   "outputs": [],
   "source": [
    "# 변수 여러개를 한번에 만들기\n",
    "\n",
    "x,y,z = 10, 20, 30\n",
    "x = y = z = 10"
   ]
  },
  {
   "cell_type": "code",
   "execution_count": 4,
   "metadata": {},
   "outputs": [
    {
     "name": "stdout",
     "output_type": "stream",
     "text": [
      "10 20 10 20\n"
     ]
    }
   ],
   "source": [
    "# 변수에 변수 할당하기\n",
    "\n",
    "x = 10 # x에 10의 주소를 할당\n",
    "y = x # x의 주소를 y에 할당하는 것임\n",
    "a, b = 10, 20\n",
    "x, y = a, b\n",
    "print(a,b,x,y)"
   ]
  },
  {
   "cell_type": "code",
   "execution_count": 5,
   "metadata": {},
   "outputs": [
    {
     "name": "stdout",
     "output_type": "stream",
     "text": [
      "20 10\n"
     ]
    }
   ],
   "source": [
    "# 교환 가능!!!! : 왜냐면 값이 들어가는게 아니라 주소가 들어가는 것이기 때문\n",
    "\n",
    "x = 10\n",
    "y = 20\n",
    "x, y = y, x\n",
    "print(x,y)"
   ]
  },
  {
   "cell_type": "code",
   "execution_count": 6,
   "metadata": {},
   "outputs": [
    {
     "name": "stdout",
     "output_type": "stream",
     "text": [
      "1 2 3\n",
      "4 5 6\n",
      "[1, 2, 3]\n",
      "1 2 3\n"
     ]
    }
   ],
   "source": [
    "# 리스트와 튜플로 변수 만들기\n",
    "\n",
    "a, b, c = [1,2,3]\n",
    "print(a,b,c)\n",
    "\n",
    "d, e, f = (4,5,6)\n",
    "print(d,e,f)\n",
    "\n",
    "x = [1,2,3] # 패킹 : 여러개의 데이터를 하나의 공간에 집어넣는 것\n",
    "print(x)\n",
    "a, b, c = x # 언패킹 : 여러개의 데이터를 풀어놓은 것\n",
    "print(a,b,c)\n",
    "# 튜플도 동일"
   ]
  },
  {
   "cell_type": "code",
   "execution_count": 7,
   "metadata": {},
   "outputs": [
    {
     "name": "stdout",
     "output_type": "stream",
     "text": [
      "a = 123\n",
      "ID of a = 2123463397424\n",
      "b = a\n",
      "ID of b = 2123463397424\n",
      "a = 1\n",
      "ID of a = 2123463393520\n"
     ]
    }
   ],
   "source": [
    "# 변수 삭제\n",
    "\n",
    "x = 10\n",
    "del x\n",
    "\n",
    "a = 123\n",
    "print(f\"a = {a}\")\n",
    "print(f\"ID of a = {id(a)}\")\n",
    "b = a\n",
    "print(f\"b = a\")\n",
    "print(f\"ID of b = {id(b)}\")\n",
    "a = 1\n",
    "print(f\"a = 1\")\n",
    "print(f\"ID of a = {id(a)}\")"
   ]
  },
  {
   "cell_type": "code",
   "execution_count": 8,
   "metadata": {},
   "outputs": [
    {
     "name": "stdout",
     "output_type": "stream",
     "text": [
      "2123544511808\n",
      "2123463393520\n",
      "2123463393552\n",
      "2123463393584\n",
      "[4, 2, 3]\n",
      "[4, 2, 3]\n",
      "2123544511808\n",
      "2123544511808\n"
     ]
    }
   ],
   "source": [
    "# 리스트의 메모리 주소 확인\n",
    "\n",
    "a = [1,2,3]\n",
    "print(id(a))\n",
    "print(id(a[0]))\n",
    "print(id(a[1]))\n",
    "print(id(a[2]))\n",
    "\n",
    "b = a\n",
    "a[0] = 4\n",
    "print(a)\n",
    "print(b)\n",
    "print(id(a))\n",
    "print(id(b))"
   ]
  },
  {
   "cell_type": "code",
   "execution_count": 9,
   "metadata": {},
   "outputs": [
    {
     "name": "stdout",
     "output_type": "stream",
     "text": [
      "[4, 2, 3]\n",
      "2123544512320\n",
      "[1, 2, 3]\n",
      "2123544513088\n"
     ]
    }
   ],
   "source": [
    "# 리스트 슬라이싱으로 복사\n",
    "\n",
    "a = [1,2,3]\n",
    "b = a[:]\n",
    "a[0] = 4\n",
    "print(a)\n",
    "print(id(a))\n",
    "print(b)\n",
    "print(id(b))"
   ]
  },
  {
   "cell_type": "code",
   "execution_count": 10,
   "metadata": {},
   "outputs": [
    {
     "name": "stdout",
     "output_type": "stream",
     "text": [
      "[4, 2, 3]\n",
      "2123544519552\n",
      "[1, 2, 3]\n",
      "2123544521792\n"
     ]
    }
   ],
   "source": [
    "# copy 명령어로 리스트 복사\n",
    "\n",
    "a = [1,2,3]\n",
    "b = a.copy()\n",
    "a[0] = 4\n",
    "print(a)\n",
    "print(id(a))\n",
    "print(b)\n",
    "print(id(b))"
   ]
  },
  {
   "cell_type": "code",
   "execution_count": 12,
   "metadata": {},
   "outputs": [
    {
     "name": "stdout",
     "output_type": "stream",
     "text": [
      "2123544127376\n",
      "2123544125232\n",
      "2123544125680\n",
      "-------------\n",
      "2123463401680\n",
      "2123463401680\n",
      "2123463401680\n"
     ]
    }
   ],
   "source": [
    "a = 1000\n",
    "print(id(a))\n",
    "b = 1000\n",
    "print(id(b))\n",
    "c = 1000\n",
    "print(id(c))\n",
    "\n",
    "print('-'*13)\n",
    "\n",
    "a = 256\n",
    "print(id(a))\n",
    "b = 256\n",
    "print(id(b))\n",
    "c = 256\n",
    "print(id(c))\n",
    "\n",
    "# 자주 사용하는 숫자들은 현재 커널안에서 메모리를 지정해놨음(1부터 256까지 ※ 주피터 노트북에서)"
   ]
  },
  {
   "cell_type": "code",
   "execution_count": 13,
   "metadata": {},
   "outputs": [
    {
     "name": "stdout",
     "output_type": "stream",
     "text": [
      "10\n",
      "10\n",
      "True\n"
     ]
    }
   ],
   "source": [
    "a = 10\n",
    "b = a\n",
    "print(a)\n",
    "print(b)\n",
    "print(a is b) # 동일한 객체를 가리키면 True 반환"
   ]
  },
  {
   "cell_type": "code",
   "execution_count": 14,
   "metadata": {},
   "outputs": [
    {
     "name": "stdout",
     "output_type": "stream",
     "text": [
      "[4, 2, 3]\n",
      "[1, 2, 3]\n"
     ]
    }
   ],
   "source": [
    "# copy 방법에는 import 시킨것과 내장함수 2가지 방법이 있음\n",
    "\n",
    "from copy import copy\n",
    "a = [1,2,3]\n",
    "b = copy(a)\n",
    "a[0] = 4\n",
    "print(a)\n",
    "print(b)"
   ]
  },
  {
   "cell_type": "code",
   "execution_count": null,
   "metadata": {},
   "outputs": [],
   "source": []
  }
 ],
 "metadata": {
  "kernelspec": {
   "display_name": "Python 3.10.5 64-bit",
   "language": "python",
   "name": "python3"
  },
  "language_info": {
   "codemirror_mode": {
    "name": "ipython",
    "version": 3
   },
   "file_extension": ".py",
   "mimetype": "text/x-python",
   "name": "python",
   "nbconvert_exporter": "python",
   "pygments_lexer": "ipython3",
   "version": "3.10.5"
  },
  "orig_nbformat": 4,
  "vscode": {
   "interpreter": {
    "hash": "fb4569285eef3a3450cb62085a5b1e0da4bce0af555edc33dcf29baf3acc1368"
   }
  }
 },
 "nbformat": 4,
 "nbformat_minor": 2
}
