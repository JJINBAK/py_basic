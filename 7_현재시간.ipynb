{
 "cells": [
  {
   "cell_type": "code",
   "execution_count": 2,
   "metadata": {},
   "outputs": [
    {
     "name": "stdout",
     "output_type": "stream",
     "text": [
      "사각형의 넓이는 6 입니다.\n",
      "30은(는) 짝수 입니다.\n"
     ]
    }
   ],
   "source": [
    "width = int(input(\"가로 : \"))\n",
    "height = int(input(\"세로 : \"))\n",
    "print(f\"사각형의 넓이는 {width*height} 입니다.\")"
   ]
  },
  {
   "cell_type": "code",
   "execution_count": null,
   "metadata": {},
   "outputs": [],
   "source": [
    "a = int(input(\"점수를 입력하시오 : \"))\n",
    "if a % 2 == 0 :\n",
    "    print(f\"{a}은(는) 짝수 입니다.\")\n",
    "else :\n",
    "    print(f\"{a}은(는) 홀수 입니다.\")"
   ]
  },
  {
   "cell_type": "code",
   "execution_count": 4,
   "metadata": {},
   "outputs": [
    {
     "name": "stdout",
     "output_type": "stream",
     "text": [
      "가장 큰 수 : 3\n"
     ]
    }
   ],
   "source": [
    "# 세개의 수 중 큰 수 찾기\n",
    "\n",
    "a = int(input(\"첫번째 수 : \"))\n",
    "b = int(input(\"두번째 수 : \"))\n",
    "c = int(input(\"세번째 수 : \"))\n",
    "\n",
    "if a > b:\n",
    "    if a > c:\n",
    "        print(f\"가장 큰 수 : {a}\")\n",
    "    else:\n",
    "        print(f\"가장 큰 수 : {c}\")\n",
    "else:\n",
    "    if b > c:\n",
    "        print(f\"가장 큰 수 : {b}\")\n",
    "    else:\n",
    "        print(f\"가장 큰 수 : {c}\")"
   ]
  },
  {
   "cell_type": "code",
   "execution_count": 5,
   "metadata": {},
   "outputs": [
    {
     "name": "stdout",
     "output_type": "stream",
     "text": [
      "띠 : 양\n"
     ]
    }
   ],
   "source": [
    "# '원숭이', '닭', '개', '돼지', '쥐', '소', '범', '토끼', '용', '뱀', '말', '양'\n",
    "\n",
    "a = ['원숭이', '닭', '개', '돼지', '쥐', '소', '범', '토끼', '용', '뱀', '말', '양']\n",
    "year = int(input(\"태어난 연도를 입력하시오 : \"))\n",
    "b = year % 12\n",
    "print(f'띠 : {a[b]}')"
   ]
  },
  {
   "cell_type": "code",
   "execution_count": 6,
   "metadata": {},
   "outputs": [
    {
     "name": "stdout",
     "output_type": "stream",
     "text": [
      "27분 11초\n"
     ]
    }
   ],
   "source": [
    "# 1631초를 몇분 몇초로 출력하면?\n",
    "\n",
    "ss = 1631\n",
    "minute = 1631 // 60\n",
    "second = 1631 % 60\n",
    "print(f'{minute}분 {second}초')"
   ]
  },
  {
   "cell_type": "code",
   "execution_count": 7,
   "metadata": {},
   "outputs": [
    {
     "name": "stdout",
     "output_type": "stream",
     "text": [
      "1661433161.9589193\n",
      "전체초 1661433161\n",
      "22시 12분 41초\n"
     ]
    }
   ],
   "source": [
    "# 현재시간 출력하기 time.time()\n",
    "\n",
    "import time\n",
    "start = time.time()\n",
    "print(start)\n",
    "\n",
    "s = int(time.time())\n",
    "print('전체초',s)\n",
    "ss = int(time.time()) % 60\n",
    "mm = int(time.time()) // 60\n",
    "hh = mm // 60\n",
    "\n",
    "print(f\"{hh%24+9}시 {mm%60}분 {ss}초\")"
   ]
  },
  {
   "cell_type": "code",
   "execution_count": 8,
   "metadata": {},
   "outputs": [
    {
     "name": "stdout",
     "output_type": "stream",
     "text": [
      "2022 년\n",
      "8 월\n",
      "25 일\n",
      "22 시\n",
      "12 분\n",
      "47 초\n",
      "실제시간 :  16.331639051437378 초\n",
      "차이 :  3.668360948562622 초\n"
     ]
    }
   ],
   "source": [
    "# 현재시간 출력하기 datetime()\n",
    "\n",
    "from datetime import datetime\n",
    "now = datetime.now()\n",
    "print(now.year, '년')\n",
    "print(now.month, '월')\n",
    "print(now.day, '일')\n",
    "print(now.hour, '시')\n",
    "print(now.minute, '분')\n",
    "print(now.second, '초')\n",
    "\n",
    "import time\n",
    "input(\"엔터를 누르고 20초를 셉니다.\")\n",
    "start = time.time()\n",
    "input(\"20초 후에 다시 엔터를 누릅니다.\")\n",
    "end = time.time()\n",
    "et = end-start\n",
    "print(\"실제시간 : \", et, \"초\")\n",
    "print(\"차이 : \", abs(et-20), \"초\")"
   ]
  },
  {
   "cell_type": "code",
   "execution_count": null,
   "metadata": {},
   "outputs": [],
   "source": []
  }
 ],
 "metadata": {
  "kernelspec": {
   "display_name": "Python 3.10.5 64-bit",
   "language": "python",
   "name": "python3"
  },
  "language_info": {
   "codemirror_mode": {
    "name": "ipython",
    "version": 3
   },
   "file_extension": ".py",
   "mimetype": "text/x-python",
   "name": "python",
   "nbconvert_exporter": "python",
   "pygments_lexer": "ipython3",
   "version": "3.10.5"
  },
  "orig_nbformat": 4,
  "vscode": {
   "interpreter": {
    "hash": "fb4569285eef3a3450cb62085a5b1e0da4bce0af555edc33dcf29baf3acc1368"
   }
  }
 },
 "nbformat": 4,
 "nbformat_minor": 2
}
