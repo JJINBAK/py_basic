{
 "cells": [
  {
   "cell_type": "markdown",
   "metadata": {},
   "source": [
    "# 자료형\n",
    "* 자료형이란 프로그래밍을 할때 쓰이는 숫자, 문자열 등 자료형태로 사용하는 모든 것을 뜻한다."
   ]
  },
  {
   "cell_type": "code",
   "execution_count": 1,
   "metadata": {},
   "outputs": [
    {
     "name": "stdout",
     "output_type": "stream",
     "text": [
      "10\n",
      "<class 'int'>\n",
      "1.5\n",
      "<class 'float'>\n",
      "11\n",
      "<class 'int'>\n"
     ]
    }
   ],
   "source": [
    "x = 10\n",
    "y = 1.5\n",
    "z = 0xb\n",
    "\n",
    "print(x)\n",
    "print(type(x))\n",
    "print(y)\n",
    "print(type(y))\n",
    "print(z)\n",
    "print(type(z))"
   ]
  },
  {
   "cell_type": "code",
   "execution_count": 2,
   "metadata": {},
   "outputs": [
    {
     "name": "stdout",
     "output_type": "stream",
     "text": [
      "1.6666666666666667\n",
      "1\n",
      "2\n",
      "125\n"
     ]
    }
   ],
   "source": [
    "x = 5\n",
    "y = 3\n",
    "\n",
    "print(x / y) # 나누기\n",
    "print(x // y) # 몫\n",
    "print(x % y) # 나머지\n",
    "print(x ** y) # 제곱"
   ]
  },
  {
   "cell_type": "code",
   "execution_count": 3,
   "metadata": {},
   "outputs": [
    {
     "name": "stdout",
     "output_type": "stream",
     "text": [
      "Python's favorite food is perl\n",
      "\"Python is very easy.\" he says.\n"
     ]
    }
   ],
   "source": [
    "food = print(\"Python's favorite food is perl\")\n",
    "say = print('\"Python is very easy.\" he says.')"
   ]
  },
  {
   "cell_type": "code",
   "execution_count": 4,
   "metadata": {},
   "outputs": [
    {
     "name": "stdout",
     "output_type": "stream",
     "text": [
      "Python's favorite food is perl\n",
      "\"Python is very easy.\" he says.\n"
     ]
    }
   ],
   "source": [
    "food = print(\"Python\\'s favorite food is perl\")\n",
    "say = print(\"\\\"Python is very easy.\\\" he says.\")"
   ]
  },
  {
   "cell_type": "code",
   "execution_count": 6,
   "metadata": {},
   "outputs": [
    {
     "name": "stdout",
     "output_type": "stream",
     "text": [
      "\n",
      "Life is too short\n",
      "You need Python\n",
      "\n",
      "Life is too short\n",
      "You need python\n"
     ]
    }
   ],
   "source": [
    "multiline = '''\n",
    "Life is too short\n",
    "You need Python\n",
    "'''\n",
    "print(multiline)\n",
    "multiline = print(\"Life is too short\\nYou need python\")"
   ]
  },
  {
   "cell_type": "markdown",
   "metadata": {},
   "source": [
    "# 이스케이프 코드\n",
    "* \\n \\t"
   ]
  },
  {
   "cell_type": "code",
   "execution_count": 7,
   "metadata": {},
   "outputs": [
    {
     "name": "stdout",
     "output_type": "stream",
     "text": [
      "Python is fun!\n"
     ]
    }
   ],
   "source": [
    "# 문자열 더하기 실습\n",
    "\n",
    "a = \"Python\"\n",
    "b = \" is fun!\"\n",
    "print(a+b)"
   ]
  },
  {
   "cell_type": "code",
   "execution_count": 8,
   "metadata": {},
   "outputs": [
    {
     "name": "stdout",
     "output_type": "stream",
     "text": [
      "=============\n",
      "Python Python \n",
      "=============\n",
      "<class 'str'>\n",
      "<class 'int'>\n",
      "36\n",
      "9\n"
     ]
    }
   ],
   "source": [
    "# 문자열의 더하기는 나열이 됨, 곱하기는 더하기를 여러번 한다 생각하면 됨\n",
    "\n",
    "a = \"Python \"\n",
    "print('='*13)\n",
    "print(a*2)\n",
    "print('='*13)\n",
    "\n",
    "a=1\n",
    "a=str(a)\n",
    "print(type(a))\n",
    "\n",
    "b='1'\n",
    "b=int(b)\n",
    "print(type(b))\n",
    "\n",
    "x = 3\n",
    "y = '6'\n",
    "print(str(x)+y)\n",
    "print(x+int(y))"
   ]
  },
  {
   "cell_type": "code",
   "execution_count": 9,
   "metadata": {},
   "outputs": [
    {
     "name": "stdout",
     "output_type": "stream",
     "text": [
      "s\n",
      "녕\n",
      "하\n",
      "세\n",
      "요\n"
     ]
    },
    {
     "ename": "IndexError",
     "evalue": "string index out of range",
     "output_type": "error",
     "traceback": [
      "\u001b[1;31m---------------------------------------------------------------------------\u001b[0m",
      "\u001b[1;31mIndexError\u001b[0m                                Traceback (most recent call last)",
      "\u001b[1;32mUntitled-1.ipynb 셀 10\u001b[0m in \u001b[0;36m<cell line: 10>\u001b[1;34m()\u001b[0m\n\u001b[0;32m      <a href='vscode-notebook-cell:Untitled-1.ipynb?jupyter-notebook#X15sdW50aXRsZWQ%3D?line=7'>8</a>\u001b[0m \u001b[39mprint\u001b[39m(\u001b[39m\"\u001b[39m\u001b[39m안녕하세요\u001b[39m\u001b[39m\"\u001b[39m[\u001b[39m3\u001b[39m])\n\u001b[0;32m      <a href='vscode-notebook-cell:Untitled-1.ipynb?jupyter-notebook#X15sdW50aXRsZWQ%3D?line=8'>9</a>\u001b[0m \u001b[39mprint\u001b[39m(\u001b[39m\"\u001b[39m\u001b[39m안녕하세요\u001b[39m\u001b[39m\"\u001b[39m[\u001b[39m4\u001b[39m])\n\u001b[1;32m---> <a href='vscode-notebook-cell:Untitled-1.ipynb?jupyter-notebook#X15sdW50aXRsZWQ%3D?line=9'>10</a>\u001b[0m \u001b[39mprint\u001b[39m(\u001b[39m\"\u001b[39;49m\u001b[39m안녕하세요\u001b[39;49m\u001b[39m\"\u001b[39;49m[\u001b[39m5\u001b[39;49m])\n",
      "\u001b[1;31mIndexError\u001b[0m: string index out of range"
     ]
    }
   ],
   "source": [
    "# 문자열 인덱싱\n",
    "\n",
    "a = 'Python is fun!'\n",
    "print(a[8])\n",
    "\n",
    "print(\"안녕하세요\"[1])\n",
    "print(\"안녕하세요\"[2])\n",
    "print(\"안녕하세요\"[3])\n",
    "print(\"안녕하세요\"[4])\n",
    "print(\"안녕하세요\"[5])"
   ]
  },
  {
   "cell_type": "code",
   "execution_count": 10,
   "metadata": {},
   "outputs": [
    {
     "name": "stdout",
     "output_type": "stream",
     "text": [
      "Life\n",
      "is\n",
      "short\n",
      "Life is too short\n",
      "Life is too short, You need Python\n",
      "You need\n",
      "Lf stosot o edPto\n"
     ]
    }
   ],
   "source": [
    "# 문자열 슬라이싱\n",
    "\n",
    "a = \"Life is too short, You need Python\"\n",
    "print(a[0:4]) # 뒷숫자는 exclusive 즉 인덱싱 0번에서 ~ 3번까지\n",
    "print(a[5:7])\n",
    "print(a[12:17])\n",
    "print(a[:17])\n",
    "print(a[:])\n",
    "print(a[19:-7])\n",
    "print(a[::2]) # 건너뛰는 옵션, 스페이스 공백도 문자열로 인식"
   ]
  },
  {
   "cell_type": "code",
   "execution_count": 11,
   "metadata": {},
   "outputs": [
    {
     "name": "stdout",
     "output_type": "stream",
     "text": [
      "안녕하\n",
      "하세\n",
      "녕하세요\n",
      "하\n",
      "요\n"
     ]
    }
   ],
   "source": [
    "print(\"안녕하세요\"[:3])\n",
    "print(\"안녕하세요\"[2:4])\n",
    "print(\"안녕하세요\"[1:])\n",
    "print(\"안녕하세요\"[2:-2])\n",
    "print(\"안녕하세요\"[-1:])"
   ]
  },
  {
   "cell_type": "code",
   "execution_count": 12,
   "metadata": {},
   "outputs": [],
   "source": [
    "a='20220605'\n",
    "year = a[:4]\n",
    "month = a[4:6]\n",
    "day = a[6:]"
   ]
  },
  {
   "cell_type": "code",
   "execution_count": 13,
   "metadata": {},
   "outputs": [
    {
     "name": "stdout",
     "output_type": "stream",
     "text": [
      "Hello python\n",
      "Hello\n",
      "python\n",
      "Hlopto\n",
      "el yhn\n",
      "nohtyp olleH\n"
     ]
    }
   ],
   "source": [
    "a = 'Hello python'\n",
    "print(a[:])\n",
    "print(a[:5])\n",
    "print(a[6:])\n",
    "print(a[::2])\n",
    "print(a[1::2])\n",
    "print(a[::-1])"
   ]
  },
  {
   "cell_type": "code",
   "execution_count": null,
   "metadata": {},
   "outputs": [],
   "source": []
  }
 ],
 "metadata": {
  "kernelspec": {
   "display_name": "Python 3.10.5 64-bit",
   "language": "python",
   "name": "python3"
  },
  "language_info": {
   "name": "python",
   "version": "3.10.5"
  },
  "orig_nbformat": 4,
  "vscode": {
   "interpreter": {
    "hash": "fb4569285eef3a3450cb62085a5b1e0da4bce0af555edc33dcf29baf3acc1368"
   }
  }
 },
 "nbformat": 4,
 "nbformat_minor": 2
}
