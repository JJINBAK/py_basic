{
 "cells": [
  {
   "cell_type": "markdown",
   "metadata": {},
   "source": [
    "# 출력함수"
   ]
  },
  {
   "cell_type": "code",
   "execution_count": 2,
   "metadata": {},
   "outputs": [
    {
     "name": "stdout",
     "output_type": "stream",
     "text": [
      "hi\n",
      "사과 바나나 딸기\n",
      "사과!바나나!딸기\n",
      "사과\n",
      "바나나\n",
      "I love Python!"
     ]
    }
   ],
   "source": [
    "print('hi')\n",
    "\n",
    "print('사과', '바나나', '딸기')\n",
    "\n",
    "print('사과','바나나','딸기',sep='!')\n",
    "\n",
    "print('사과')\n",
    "print('바나나')\n",
    "\n",
    "print('I love',end=' ')\n",
    "print('Python', end='!')"
   ]
  },
  {
   "cell_type": "markdown",
   "metadata": {},
   "source": [
    "# 입력함수"
   ]
  },
  {
   "cell_type": "code",
   "execution_count": 5,
   "metadata": {},
   "outputs": [
    {
     "name": "stdout",
     "output_type": "stream",
     "text": [
      "<class 'str'>\n",
      "<class 'int'>\n"
     ]
    }
   ],
   "source": [
    "# input() 함수를 이용하여 데이터를 입력받는다.\n",
    "\n",
    "name=input('이름은? ')\n",
    "\n",
    "# input() 함수로 입력받을 때는 아스키 문자코드가 입력되기 때문에 숫자로 입력받을때는 숫자로 변환해야 함\n",
    "\n",
    "age = input(\"나이는? \")\n",
    "print(type(age))\n",
    "age2 = int(input(\"나이는? \"))\n",
    "print(type(age2))"
   ]
  },
  {
   "cell_type": "code",
   "execution_count": null,
   "metadata": {},
   "outputs": [],
   "source": []
  }
 ],
 "metadata": {
  "kernelspec": {
   "display_name": "Python 3.10.5 64-bit",
   "language": "python",
   "name": "python3"
  },
  "language_info": {
   "codemirror_mode": {
    "name": "ipython",
    "version": 3
   },
   "file_extension": ".py",
   "mimetype": "text/x-python",
   "name": "python",
   "nbconvert_exporter": "python",
   "pygments_lexer": "ipython3",
   "version": "3.10.5"
  },
  "orig_nbformat": 4,
  "vscode": {
   "interpreter": {
    "hash": "fb4569285eef3a3450cb62085a5b1e0da4bce0af555edc33dcf29baf3acc1368"
   }
  }
 },
 "nbformat": 4,
 "nbformat_minor": 2
}
