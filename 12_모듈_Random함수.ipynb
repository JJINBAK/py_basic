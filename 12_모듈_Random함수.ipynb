{
 "cells": [
  {
   "cell_type": "markdown",
   "metadata": {},
   "source": [
    "# 모듈_Random_구구단 문제내기"
   ]
  },
  {
   "cell_type": "markdown",
   "metadata": {},
   "source": [
    "### **Function < Module < Package < Library**\n",
    "\n",
    "* Import name"
   ]
  },
  {
   "cell_type": "code",
   "execution_count": 1,
   "metadata": {},
   "outputs": [
    {
     "name": "stdout",
     "output_type": "stream",
     "text": [
      "8\n"
     ]
    }
   ],
   "source": [
    "import random\n",
    "a=random.randint(1,10)\n",
    "print(a)"
   ]
  },
  {
   "cell_type": "code",
   "execution_count": 3,
   "metadata": {},
   "outputs": [
    {
     "name": "stdout",
     "output_type": "stream",
     "text": [
      "2 4 9 3 6 4 10 3 3 3 "
     ]
    }
   ],
   "source": [
    "import random\n",
    "for i in range(10):\n",
    "    a=random.randint(1,10)\n",
    "    print(a, end = \" \")"
   ]
  },
  {
   "cell_type": "code",
   "execution_count": 4,
   "metadata": {},
   "outputs": [
    {
     "name": "stdout",
     "output_type": "stream",
     "text": [
      "[85, 29, 20, 72, 62, 31, 77, 12, 39, 80]\n"
     ]
    }
   ],
   "source": [
    "# 1부터 100사이의 난수 10개 뽑기\n",
    "\n",
    "import random\n",
    "a = []\n",
    "for i in range(10): # while len(a)<=10\n",
    "    b=random.randint(1,100)\n",
    "    a.append(b)\n",
    "print(a)"
   ]
  },
  {
   "cell_type": "code",
   "execution_count": 5,
   "metadata": {},
   "outputs": [
    {
     "name": "stdout",
     "output_type": "stream",
     "text": [
      "[5, 3, 4, 6, 9]\n"
     ]
    }
   ],
   "source": [
    "# 중복되지 않도록 난수 뽑기\n",
    "\n",
    "import random\n",
    "a = []\n",
    "while len(a)<5:\n",
    "    b=random.randint(1,10)\n",
    "    if b in a:\n",
    "        continue\n",
    "    a.append(b)\n",
    "\n",
    "print(a)"
   ]
  },
  {
   "cell_type": "markdown",
   "metadata": {},
   "source": [
    "# **구구단 문제내기**\n",
    "\n",
    "- 중복되는 문제는 없어야 한다.\n",
    "- 오답이 나올때까지 문제를 계속 낸다.\n",
    "- 오답을 입력하고 문제가 멈추면 정답 수를 알려준다.\n",
    "- 맞춘 개수와 함께 문제 푼 시간을 알려준다."
   ]
  },
  {
   "cell_type": "code",
   "execution_count": 7,
   "metadata": {},
   "outputs": [
    {
     "name": "stdout",
     "output_type": "stream",
     "text": [
      "정답\n",
      "정답\n",
      "정답\n",
      "정답\n",
      "정답\n",
      "오답\n",
      "--------------------\n",
      "정답 개수 : 5 개\n",
      "문제 푼 시간 : 8.572 sec\n"
     ]
    }
   ],
   "source": [
    "import random\n",
    "import time\n",
    "pre = []\n",
    "cnt = 0\n",
    "st = time.time()\n",
    "\n",
    "while True:\n",
    "    a = random.randint(2,9)\n",
    "    b = random.randint(1,9)\n",
    "    if [a,b] not in pre:\n",
    "        c = int(input(f'{a} * {b} = ? '))\n",
    "        pre.append([a,b])\n",
    "        if c == a*b:\n",
    "            print('정답')\n",
    "            cnt += 1\n",
    "        else:\n",
    "            et = time.time()\n",
    "            print('오답')\n",
    "            break\n",
    "    else:\n",
    "        pass\n",
    "    \n",
    "print('-'*20)\n",
    "print(f'정답 개수 : {cnt} 개')\n",
    "print(f'문제 푼 시간 : {et-st:0.3f} sec')\n"
   ]
  },
  {
   "cell_type": "code",
   "execution_count": null,
   "metadata": {},
   "outputs": [],
   "source": []
  }
 ],
 "metadata": {
  "kernelspec": {
   "display_name": "Python 3.10.5 64-bit",
   "language": "python",
   "name": "python3"
  },
  "language_info": {
   "codemirror_mode": {
    "name": "ipython",
    "version": 3
   },
   "file_extension": ".py",
   "mimetype": "text/x-python",
   "name": "python",
   "nbconvert_exporter": "python",
   "pygments_lexer": "ipython3",
   "version": "3.10.5"
  },
  "orig_nbformat": 4,
  "vscode": {
   "interpreter": {
    "hash": "fb4569285eef3a3450cb62085a5b1e0da4bce0af555edc33dcf29baf3acc1368"
   }
  }
 },
 "nbformat": 4,
 "nbformat_minor": 2
}
