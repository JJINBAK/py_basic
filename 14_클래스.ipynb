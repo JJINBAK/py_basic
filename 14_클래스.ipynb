{
 "cells": [
  {
   "cell_type": "markdown",
   "metadata": {},
   "source": [
    "# 이전 결과값을 유지하기 위해 전역변수(global) 선언"
   ]
  },
  {
   "cell_type": "code",
   "execution_count": 3,
   "metadata": {},
   "outputs": [
    {
     "name": "stdout",
     "output_type": "stream",
     "text": [
      "3\n",
      "7\n"
     ]
    }
   ],
   "source": [
    "a = 0\n",
    "def add(num):\n",
    "    global a # 전역변수로 선언\n",
    "    a += num\n",
    "    return a\n",
    "\n",
    "print(add(3))\n",
    "print(add(4))"
   ]
  },
  {
   "cell_type": "code",
   "execution_count": 5,
   "metadata": {},
   "outputs": [
    {
     "name": "stdout",
     "output_type": "stream",
     "text": [
      "<__main__.Calculator object at 0x0000022C7EE0BCD0> 10\n",
      "<__main__.Calculator object at 0x0000022C7EE0BCD0> 14\n",
      "<__main__.Calculator object at 0x0000022C7EB2AF20> 17\n",
      "<__main__.Calculator object at 0x0000022C7EB2AF20> 24\n"
     ]
    }
   ],
   "source": [
    "class Calculator : # 클래스는 첫글자가 대문자임!\n",
    "    def __init__(self):\n",
    "        self.a = 0\n",
    "    def add(self,num):\n",
    "        self.a += num\n",
    "        return self.a\n",
    "\n",
    "cal1 = Calculator()\n",
    "cal2 = Calculator()\n",
    "\n",
    "print(cal1, add(3))\n",
    "print(cal1, add(4))\n",
    "print(cal2, add(3))\n",
    "print(cal2, add(7))"
   ]
  },
  {
   "cell_type": "markdown",
   "metadata": {},
   "source": [
    "```python\n",
    "class FourCal:\n",
    "    def setdata(self, first, second): # 클래스 안에 구현된 함수는 method\n",
    "        self.first = first\n",
    "        self.second = second\n",
    "\n",
    "a = FourCal()\n",
    "a.setdata(4,2) # 입력값을 받아야됨, 클래스 안에 입력값 만드는 부분을 만들어놨기 때문\n",
    "a.add()"
   ]
  },
  {
   "cell_type": "markdown",
   "metadata": {},
   "source": [
    "# 생성자(Constructor)\n",
    "\n",
    "객체가 생성될 때 자동으로 호출되는 메서드\n",
    "\n",
    "```python\n",
    "def __init__(self, first, second):\n",
    "    self.first= first\n",
    "    self.second= second"
   ]
  },
  {
   "cell_type": "code",
   "execution_count": 6,
   "metadata": {},
   "outputs": [
    {
     "name": "stdout",
     "output_type": "stream",
     "text": [
      "6\n"
     ]
    }
   ],
   "source": [
    "class FourCal :\n",
    "    def __init__(self, first, second):\n",
    "        self.first = first\n",
    "        self.second = second\n",
    "    def add(self):\n",
    "        result = self.first+self.second\n",
    "        return result\n",
    "    def mul(self):\n",
    "        result = self.first*self.second\n",
    "        return result\n",
    "    def sub(self):\n",
    "        result = self.first-self.second\n",
    "        return result\n",
    "    def div(self):\n",
    "        result = self.first/self.second\n",
    "        return result\n",
    "\n",
    "a=FourCal(4,2)\n",
    "b=FourCal(1,2)\n",
    "print(a.add())"
   ]
  },
  {
   "cell_type": "code",
   "execution_count": 16,
   "metadata": {},
   "outputs": [
    {
     "ename": "AttributeError",
     "evalue": "'Person' object has no attribute 'name'",
     "output_type": "error",
     "traceback": [
      "\u001b[1;31m---------------------------------------------------------------------------\u001b[0m",
      "\u001b[1;31mAttributeError\u001b[0m                            Traceback (most recent call last)",
      "\u001b[1;32mUntitled-1.ipynb 셀 7\u001b[0m in \u001b[0;36m<cell line: 9>\u001b[1;34m()\u001b[0m\n\u001b[0;32m      <a href='vscode-notebook-cell:Untitled-1.ipynb?jupyter-notebook#X14sdW50aXRsZWQ%3D?line=5'>6</a>\u001b[0m         \u001b[39mprint\u001b[39m(\u001b[39mf\u001b[39m\u001b[39m'\u001b[39m\u001b[39m나의 이름은 \u001b[39m\u001b[39m{\u001b[39;00m\u001b[39mself\u001b[39m\u001b[39m.\u001b[39mname\u001b[39m}\u001b[39;00m\u001b[39m, 나이는 \u001b[39m\u001b[39m{\u001b[39;00m\u001b[39mself\u001b[39m\u001b[39m.\u001b[39mage\u001b[39m}\u001b[39;00m\u001b[39m 입니다.\u001b[39m\u001b[39m'\u001b[39m)\n\u001b[0;32m      <a href='vscode-notebook-cell:Untitled-1.ipynb?jupyter-notebook#X14sdW50aXRsZWQ%3D?line=7'>8</a>\u001b[0m a \u001b[39m=\u001b[39m Person()\n\u001b[1;32m----> <a href='vscode-notebook-cell:Untitled-1.ipynb?jupyter-notebook#X14sdW50aXRsZWQ%3D?line=8'>9</a>\u001b[0m a\u001b[39m.\u001b[39;49mshow()\n",
      "\u001b[1;32mUntitled-1.ipynb 셀 7\u001b[0m in \u001b[0;36mPerson.show\u001b[1;34m(self)\u001b[0m\n\u001b[0;32m      <a href='vscode-notebook-cell:Untitled-1.ipynb?jupyter-notebook#X14sdW50aXRsZWQ%3D?line=4'>5</a>\u001b[0m \u001b[39mdef\u001b[39;00m \u001b[39mshow\u001b[39m(\u001b[39mself\u001b[39m):\n\u001b[1;32m----> <a href='vscode-notebook-cell:Untitled-1.ipynb?jupyter-notebook#X14sdW50aXRsZWQ%3D?line=5'>6</a>\u001b[0m     \u001b[39mprint\u001b[39m(\u001b[39mf\u001b[39m\u001b[39m'\u001b[39m\u001b[39m나의 이름은 \u001b[39m\u001b[39m{\u001b[39;00m\u001b[39mself\u001b[39m\u001b[39m.\u001b[39mname\u001b[39m}\u001b[39;00m\u001b[39m, 나이는 \u001b[39m\u001b[39m{\u001b[39;00m\u001b[39mself\u001b[39m\u001b[39m.\u001b[39mage\u001b[39m}\u001b[39;00m\u001b[39m 입니다.\u001b[39m\u001b[39m'\u001b[39m)\n",
      "\u001b[1;31mAttributeError\u001b[0m: 'Person' object has no attribute 'name'"
     ]
    }
   ],
   "source": [
    "class Person:\n",
    "    def init(self):\n",
    "        self.name = input('name? ')\n",
    "        self.age = input('age? ')\n",
    "    def show(self):\n",
    "        print(f'나의 이름은 {self.name}, 나이는 {self.age} 입니다.')\n",
    "\n",
    "a = Person()\n",
    "a.show()"
   ]
  },
  {
   "cell_type": "code",
   "execution_count": 11,
   "metadata": {},
   "outputs": [
    {
     "ename": "AttributeError",
     "evalue": "'Person2' object has no attribute 'name'",
     "output_type": "error",
     "traceback": [
      "\u001b[1;31m---------------------------------------------------------------------------\u001b[0m",
      "\u001b[1;31mAttributeError\u001b[0m                            Traceback (most recent call last)",
      "\u001b[1;32mUntitled-1.ipynb 셀 8\u001b[0m in \u001b[0;36m<cell line: 9>\u001b[1;34m()\u001b[0m\n\u001b[0;32m      <a href='vscode-notebook-cell:Untitled-1.ipynb?jupyter-notebook#X15sdW50aXRsZWQ%3D?line=5'>6</a>\u001b[0m         \u001b[39mprint\u001b[39m(\u001b[39mf\u001b[39m\u001b[39m'\u001b[39m\u001b[39m나의 이름은 \u001b[39m\u001b[39m{\u001b[39;00m\u001b[39mself\u001b[39m\u001b[39m.\u001b[39mname\u001b[39m}\u001b[39;00m\u001b[39m, 성별은 \u001b[39m\u001b[39m{\u001b[39;00m\u001b[39mself\u001b[39m\u001b[39m.\u001b[39mgender\u001b[39m}\u001b[39;00m\u001b[39m자, 나이는 \u001b[39m\u001b[39m{\u001b[39;00m\u001b[39mself\u001b[39m\u001b[39m.\u001b[39mage\u001b[39m}\u001b[39;00m\u001b[39m 입니다.\u001b[39m\u001b[39m'\u001b[39m)\n\u001b[0;32m      <a href='vscode-notebook-cell:Untitled-1.ipynb?jupyter-notebook#X15sdW50aXRsZWQ%3D?line=7'>8</a>\u001b[0m a \u001b[39m=\u001b[39m Person2()\n\u001b[1;32m----> <a href='vscode-notebook-cell:Untitled-1.ipynb?jupyter-notebook#X15sdW50aXRsZWQ%3D?line=8'>9</a>\u001b[0m a\u001b[39m.\u001b[39;49mshow()\n",
      "\u001b[1;32mUntitled-1.ipynb 셀 8\u001b[0m in \u001b[0;36mPerson2.show\u001b[1;34m(self)\u001b[0m\n\u001b[0;32m      <a href='vscode-notebook-cell:Untitled-1.ipynb?jupyter-notebook#X15sdW50aXRsZWQ%3D?line=4'>5</a>\u001b[0m \u001b[39mdef\u001b[39;00m \u001b[39mshow\u001b[39m(\u001b[39mself\u001b[39m): \u001b[39m# 이름이 같은 method?, 기존의 show에다가 덮어쓰기가 됨\u001b[39;00m\n\u001b[1;32m----> <a href='vscode-notebook-cell:Untitled-1.ipynb?jupyter-notebook#X15sdW50aXRsZWQ%3D?line=5'>6</a>\u001b[0m     \u001b[39mprint\u001b[39m(\u001b[39mf\u001b[39m\u001b[39m'\u001b[39m\u001b[39m나의 이름은 \u001b[39m\u001b[39m{\u001b[39;00m\u001b[39mself\u001b[39m\u001b[39m.\u001b[39mname\u001b[39m}\u001b[39;00m\u001b[39m, 성별은 \u001b[39m\u001b[39m{\u001b[39;00m\u001b[39mself\u001b[39m\u001b[39m.\u001b[39mgender\u001b[39m}\u001b[39;00m\u001b[39m자, 나이는 \u001b[39m\u001b[39m{\u001b[39;00m\u001b[39mself\u001b[39m\u001b[39m.\u001b[39mage\u001b[39m}\u001b[39;00m\u001b[39m 입니다.\u001b[39m\u001b[39m'\u001b[39m)\n",
      "\u001b[1;31mAttributeError\u001b[0m: 'Person2' object has no attribute 'name'"
     ]
    }
   ],
   "source": [
    "class Person2(Person):\n",
    "    def __init__(self):\n",
    "        super().__init__() # 원래 Person은 부모 클래스 => super()\n",
    "        self.gender = input('gender? ')\n",
    "    def show(self): # 이름이 같은 method?, 기존의 show에다가 덮어쓰기가 됨\n",
    "        print(f'나의 이름은 {self.name}, 성별은 {self.gender}자, 나이는 {self.age} 입니다.')\n",
    "\n",
    "a = Person2()\n",
    "a.show()"
   ]
  },
  {
   "cell_type": "code",
   "execution_count": 17,
   "metadata": {},
   "outputs": [
    {
     "name": "stdout",
     "output_type": "stream",
     "text": [
      "D + 4 days\n",
      "계산하고 싶은 날짜를 입력하세요( ex) 20220824 ) : \n",
      "D + -6 days\n"
     ]
    }
   ],
   "source": [
    "from datetime import datetime\n",
    "\n",
    "s_y = int(input(\"년도 입력 : \"))\n",
    "s_m = int(input(\"월 입력 : \"))\n",
    "s_d = int(input(\"일 입력 : \"))\n",
    "\n",
    "dt1 = datetime(s_y, s_m, s_d, 0)\n",
    "dt2 = datetime.now()\n",
    "\n",
    "td = dt2-dt1\n",
    "print('D + %d days' % td.days)"
   ]
  },
  {
   "cell_type": "code",
   "execution_count": 18,
   "metadata": {},
   "outputs": [
    {
     "name": "stdout",
     "output_type": "stream",
     "text": [
      "계산하고 싶은 날짜를 입력하세요( ex) 20220824 ) : \n",
      "D + 0 days\n"
     ]
    }
   ],
   "source": [
    "from datetime import datetime\n",
    "\n",
    "print('계산하고 싶은 날짜를 입력하세요( ex) 20220824 ) : ')\n",
    "ans = input()\n",
    "\n",
    "s_y = int(ans[0:4])\n",
    "s_m = int(ans[4:6])\n",
    "s_d = int(ans[6:8])\n",
    "\n",
    "dt1 = datetime(s_y, s_m, s_d, 0)\n",
    "dt2 = datetime.now()\n",
    "\n",
    "td = dt2-dt1\n",
    "print('D + %d days' % td.days)"
   ]
  },
  {
   "cell_type": "code",
   "execution_count": 19,
   "metadata": {},
   "outputs": [
    {
     "name": "stdout",
     "output_type": "stream",
     "text": [
      "D+ 6520 days\n",
      "D+ 6024 days\n",
      "D+ 4616 days\n"
     ]
    }
   ],
   "source": [
    "from datetime import datetime\n",
    "\n",
    "class Dday:\n",
    "    def __init__(self,y,m,d):\n",
    "        self.y = y\n",
    "        self.m = m\n",
    "        self.d = d\n",
    "    def dday(self):\n",
    "        d1 = datetime(self.y,self.m,self.d)\n",
    "        d2 = datetime.now()\n",
    "        td = d2-d1\n",
    "        print('D+ %d days' % td.days)\n",
    "\n",
    "myungin = Dday(2004,10, 27)\n",
    "taein = Dday(2006, 3, 7)\n",
    "dain = Dday(2010, 1, 13)\n",
    "\n",
    "myungin.dday()\n",
    "taein.dday()\n",
    "dain.dday()"
   ]
  },
  {
   "cell_type": "code",
   "execution_count": 20,
   "metadata": {},
   "outputs": [
    {
     "name": "stdout",
     "output_type": "stream",
     "text": [
      "D+ 4616 days, 23:18:34.953338 days & 남\n"
     ]
    }
   ],
   "source": [
    "from datetime import datetime\n",
    "\n",
    "class Dday:\n",
    "    def __init__(self,y,m,d):\n",
    "        self.y = y\n",
    "        self.m = m\n",
    "        self.d = d\n",
    "    def dday(self):\n",
    "        d1 = datetime(self.y,self.m,self.d)\n",
    "        d2 = datetime.now()\n",
    "        td = d2-d1\n",
    "        print('D+ %d days' % td.days)\n",
    "\n",
    "class Dday2(Dday):\n",
    "    def __init__(self,y,m,d):\n",
    "        super().__init__(y,m,d)\n",
    "        self.gender = input('성별 : ')\n",
    "    def dday(self):\n",
    "        d1 = datetime(self.y,self.m,self.d)\n",
    "        d2 = datetime.now()\n",
    "        td = d2-d1\n",
    "        print('D+ {} days & {}'.format(td,self.gender))\n",
    "\n",
    "a=Dday2(2010,1,13)\n",
    "a.dday()"
   ]
  },
  {
   "cell_type": "code",
   "execution_count": null,
   "metadata": {},
   "outputs": [],
   "source": []
  }
 ],
 "metadata": {
  "kernelspec": {
   "display_name": "Python 3.10.5 64-bit",
   "language": "python",
   "name": "python3"
  },
  "language_info": {
   "codemirror_mode": {
    "name": "ipython",
    "version": 3
   },
   "file_extension": ".py",
   "mimetype": "text/x-python",
   "name": "python",
   "nbconvert_exporter": "python",
   "pygments_lexer": "ipython3",
   "version": "3.10.5"
  },
  "orig_nbformat": 4,
  "vscode": {
   "interpreter": {
    "hash": "fb4569285eef3a3450cb62085a5b1e0da4bce0af555edc33dcf29baf3acc1368"
   }
  }
 },
 "nbformat": 4,
 "nbformat_minor": 2
}
