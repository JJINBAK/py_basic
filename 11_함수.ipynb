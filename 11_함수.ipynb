{
 "cells": [
  {
   "cell_type": "markdown",
   "metadata": {},
   "source": [
    "# 함수\n",
    "\n",
    "def 함수명(매개변수): <수행할 문장1> <수행할 문장2> ...\n",
    "\n",
    "함수 종류 4개\n",
    "\n",
    "1. 매개변수 O, 리턴 O\n",
    "2. 매개변수 O, 리턴 X\n",
    "3. 매개변수 X, 리턴 O\n",
    "4. 매개변수 X. 리턴 X"
   ]
  },
  {
   "cell_type": "code",
   "execution_count": 2,
   "metadata": {},
   "outputs": [
    {
     "name": "stdout",
     "output_type": "stream",
     "text": [
      "안녕\n",
      "반가워!!\n"
     ]
    }
   ],
   "source": [
    "# 매개변수 X, 리턴 X\n",
    "\n",
    "def greeting():\n",
    "    print('안녕')\n",
    "    print('반가워!!')\n",
    "\n",
    "greeting()"
   ]
  },
  {
   "cell_type": "code",
   "execution_count": 3,
   "metadata": {},
   "outputs": [
    {
     "name": "stdout",
     "output_type": "stream",
     "text": [
      "3와 4의 합은 7 입니다.\n",
      "None\n"
     ]
    }
   ],
   "source": [
    "# 매개변수 O, 리턴 X\n",
    "\n",
    "def add(a,b):\n",
    "    print(f'{a}와 {b}의 합은 {a+b} 입니다.')\n",
    "\n",
    "a = add(3,4)\n",
    "print(a) # 함수 자체에 리턴이 없으므로 a는 none값이 들어간다"
   ]
  },
  {
   "cell_type": "code",
   "execution_count": 4,
   "metadata": {},
   "outputs": [
    {
     "name": "stdout",
     "output_type": "stream",
     "text": [
      "7\n"
     ]
    }
   ],
   "source": [
    "# 매개변수 O, 리턴 O\n",
    "\n",
    "def add2(a,b):\n",
    "    c = a+b\n",
    "    return c\n",
    "x = add2(3,4)\n",
    "print(x)"
   ]
  },
  {
   "cell_type": "code",
   "execution_count": 5,
   "metadata": {},
   "outputs": [
    {
     "name": "stdout",
     "output_type": "stream",
     "text": [
      "Hi\n"
     ]
    }
   ],
   "source": [
    "# 매개변수 X, 리턴 O\n",
    "\n",
    "def say():\n",
    "    return 'Hi'\n",
    "\n",
    "a = say()\n",
    "print(a)"
   ]
  },
  {
   "cell_type": "markdown",
   "metadata": {},
   "source": [
    "# 매개변수와 인수\n",
    "```python\n",
    "def add(a,b):# a,b는 매개변수(parameter)return a+b\n",
    "\n",
    "c= add(3,4)# 3,4는 인수(arguments)print(c)\n",
    "```"
   ]
  },
  {
   "cell_type": "code",
   "execution_count": 8,
   "metadata": {},
   "outputs": [
    {
     "name": "stdout",
     "output_type": "stream",
     "text": [
      "1\n"
     ]
    }
   ],
   "source": [
    "a = 1 # 전역변수\n",
    "\n",
    "def b():\n",
    "    a = 2 # 지역변수\n",
    "\n",
    "b()\n",
    "print(a)"
   ]
  },
  {
   "cell_type": "code",
   "execution_count": 9,
   "metadata": {},
   "outputs": [
    {
     "name": "stdout",
     "output_type": "stream",
     "text": [
      "10\n",
      "8\n"
     ]
    }
   ],
   "source": [
    "def add(a,b):\n",
    "    return a+b\n",
    "\n",
    "result = add(a=3, b=7)\n",
    "print(result)\n",
    "\n",
    "result = add(b=5, a=3) # b에 5, a에 3 전달하기, 순서 상관없이 매개변수 지정했음\n",
    "print(result)"
   ]
  },
  {
   "cell_type": "code",
   "execution_count": 10,
   "metadata": {},
   "outputs": [
    {
     "name": "stdout",
     "output_type": "stream",
     "text": [
      "['1', '2', '3', '4', '5']\n"
     ]
    }
   ],
   "source": [
    "# (,)로 구분된 숫자를 문자열로 입력받아서 리스트로 넣기\n",
    "\n",
    "def sum5(a):\n",
    "    x = a.split(',')\n",
    "    return x\n",
    "a = sum5('1,2,3,4,5')\n",
    "print(a)"
   ]
  },
  {
   "cell_type": "code",
   "execution_count": 11,
   "metadata": {},
   "outputs": [
    {
     "name": "stdout",
     "output_type": "stream",
     "text": [
      "15\n"
     ]
    }
   ],
   "source": [
    "# 문자열 입력받아서 합 구하기\n",
    "\n",
    "def sum5(a):\n",
    "    x = a.split(',')\n",
    "    mysum=0\n",
    "    for i in range(0,len(x)):\n",
    "        mysum+=int(x[i])\n",
    "    return mysum\n",
    "\n",
    "a = sum5('1,2,3,4,5')\n",
    "print(a)"
   ]
  },
  {
   "cell_type": "markdown",
   "metadata": {},
   "source": [
    "# **입력값이 몇개가 될지 모를때**\n",
    "\n",
    "- 매개변수 이름 앞에 *을 붙이면 입력값을 전부 모아서 튜플로 만들어 준다\n",
    "\n",
    "```python\n",
    "def add_many(*args):\n",
    "```\n",
    "*을 붙이면 튜플이 아닌 딕셔너리 형태로 전달받는다. 호출할때는 '키'='값' 형식으로 사용\n",
    "\n",
    "```python\n",
    "def dicFunc(**para) :\n",
    "for iin para.keys() :\n",
    "        print(\"%s : %d\"% (i, para[i]))\n",
    "\n",
    "dicFunc(트와이스=9, 소녀시대=7, 걸스데이=4, 블랙핑크=4)\n",
    "```"
   ]
  },
  {
   "cell_type": "code",
   "execution_count": 12,
   "metadata": {},
   "outputs": [
    {
     "name": "stdout",
     "output_type": "stream",
     "text": [
      "6\n"
     ]
    }
   ],
   "source": [
    "def add_many(*args):\n",
    "    s = 0\n",
    "    for i in args:\n",
    "        s += i\n",
    "    return s\n",
    "\n",
    "print(add_many(1,2,3))"
   ]
  },
  {
   "cell_type": "code",
   "execution_count": 18,
   "metadata": {},
   "outputs": [
    {
     "name": "stdout",
     "output_type": "stream",
     "text": [
      "10\n",
      "24\n"
     ]
    }
   ],
   "source": [
    "def add_mul(choice, *args):\n",
    "    if choice == 'add':\n",
    "        s = 0\n",
    "        for i in args:\n",
    "            s += i\n",
    "        return s\n",
    "    elif choice == 'mul':\n",
    "        m = 1\n",
    "        for i in args:\n",
    "            m *= i\n",
    "        return m\n",
    "\n",
    "print(add_mul('add', 1,2,3,4))\n",
    "print(add_mul('mul', 1,2,3,4))"
   ]
  },
  {
   "cell_type": "code",
   "execution_count": 21,
   "metadata": {},
   "outputs": [
    {
     "name": "stdout",
     "output_type": "stream",
     "text": [
      "(12, 4.0)\n",
      "12\n",
      "4.0\n"
     ]
    }
   ],
   "source": [
    "def sum_avg(x,y,z):\n",
    "    mysum = x+y+z\n",
    "    avg = mysum / 3\n",
    "    return mysum, avg # 튜플로 묶어서 한번에 넘겨준다\n",
    "\n",
    "a = sum_avg(3,4,5)\n",
    "print(a)\n",
    "\n",
    "mysum,myavg = sum_avg(3,4,5) # 변수명을 각각 지정해두면 따로 받을수도 있다\n",
    "print(mysum)\n",
    "print(myavg)"
   ]
  },
  {
   "cell_type": "code",
   "execution_count": 22,
   "metadata": {},
   "outputs": [
    {
     "name": "stdout",
     "output_type": "stream",
     "text": [
      "3.0\n"
     ]
    }
   ],
   "source": [
    "def avg_num(*args):\n",
    "    s = 0\n",
    "    for i in args:\n",
    "        s += i\n",
    "    return s / len(args)\n",
    "\n",
    "a = avg_num(1,2,3,4,5)\n",
    "print(a)"
   ]
  },
  {
   "cell_type": "code",
   "execution_count": 23,
   "metadata": {},
   "outputs": [
    {
     "name": "stdout",
     "output_type": "stream",
     "text": [
      "9\n",
      "20\n"
     ]
    }
   ],
   "source": [
    "# **매개변수에 초기값 미리 설정하기**\n",
    "\n",
    "# [주의사항] 초기화 시키고 싶은 매개변수는 뒤에 놓기!\n",
    "\n",
    "def mycal(a,b,cal='add'):\n",
    "    if cal == 'add':\n",
    "        return a+b\n",
    "    elif cal == 'mul':\n",
    "        return a*b\n",
    "\n",
    "print(mycal(4,5))\n",
    "print(mycal(4,5,'mul'))"
   ]
  },
  {
   "cell_type": "code",
   "execution_count": 24,
   "metadata": {},
   "outputs": [
    {
     "name": "stdout",
     "output_type": "stream",
     "text": [
      "7\n",
      "-1\n",
      "12\n",
      "0.75\n"
     ]
    }
   ],
   "source": [
    "def mycal(a,b,cal='add'):\n",
    "    if cal=='add':\n",
    "        return a+b\n",
    "    elif cal=='sub':\n",
    "        return a-b\n",
    "    elif cal=='mul':\n",
    "        return a*b\n",
    "    elif cal=='div':\n",
    "        return a/b\n",
    "\n",
    "print(mycal(3,4))\n",
    "print(mycal(3,4,'sub'))\n",
    "print(mycal(3,4,'mul'))\n",
    "print(mycal(3,4,'div'))"
   ]
  },
  {
   "cell_type": "code",
   "execution_count": 25,
   "metadata": {},
   "outputs": [
    {
     "name": "stdout",
     "output_type": "stream",
     "text": [
      "['False', 'None', 'True', 'and', 'as', 'assert', 'async', 'await', 'break', 'class', 'continue', 'def', 'del', 'elif', 'else', 'except', 'finally', 'for', 'from', 'global', 'if', 'import', 'in', 'is', 'lambda', 'nonlocal', 'not', 'or', 'pass', 'raise', 'return', 'try', 'while', 'with', 'yield']\n"
     ]
    }
   ],
   "source": [
    "import keyword\n",
    "print(keyword.kwlist)"
   ]
  },
  {
   "cell_type": "code",
   "execution_count": 26,
   "metadata": {},
   "outputs": [
    {
     "name": "stdout",
     "output_type": "stream",
     "text": [
      "['__abs__', '__add__', '__and__', '__bool__', '__ceil__', '__class__', '__delattr__', '__dir__', '__divmod__', '__doc__', '__eq__', '__float__', '__floor__', '__floordiv__', '__format__', '__ge__', '__getattribute__', '__getnewargs__', '__gt__', '__hash__', '__index__', '__init__', '__init_subclass__', '__int__', '__invert__', '__le__', '__lshift__', '__lt__', '__mod__', '__mul__', '__ne__', '__neg__', '__new__', '__or__', '__pos__', '__pow__', '__radd__', '__rand__', '__rdivmod__', '__reduce__', '__reduce_ex__', '__repr__', '__rfloordiv__', '__rlshift__', '__rmod__', '__rmul__', '__ror__', '__round__', '__rpow__', '__rrshift__', '__rshift__', '__rsub__', '__rtruediv__', '__rxor__', '__setattr__', '__sizeof__', '__str__', '__sub__', '__subclasshook__', '__truediv__', '__trunc__', '__xor__', 'as_integer_ratio', 'bit_count', 'bit_length', 'conjugate', 'denominator', 'from_bytes', 'imag', 'numerator', 'real', 'to_bytes']\n"
     ]
    }
   ],
   "source": [
    "a = 1\n",
    "print(dir(a)) # 파이썬 내부에서 a라는 변수로 할 수 있는것들 목록"
   ]
  },
  {
   "cell_type": "code",
   "execution_count": 27,
   "metadata": {},
   "outputs": [
    {
     "name": "stdout",
     "output_type": "stream",
     "text": [
      "20\n"
     ]
    }
   ],
   "source": [
    "def sum_avg(*args, cal='sum'):\n",
    "    result = 0\n",
    "    if cal == 'sum':\n",
    "        for i in args:\n",
    "            result += i\n",
    "        return result\n",
    "    if cal == 'avg':\n",
    "        for i in args:\n",
    "            result += i\n",
    "        return result/len(args)\n",
    "\n",
    "print(sum_avg(1,2,3,4,5,5))"
   ]
  },
  {
   "cell_type": "code",
   "execution_count": null,
   "metadata": {},
   "outputs": [],
   "source": []
  }
 ],
 "metadata": {
  "kernelspec": {
   "display_name": "Python 3.10.5 64-bit",
   "language": "python",
   "name": "python3"
  },
  "language_info": {
   "codemirror_mode": {
    "name": "ipython",
    "version": 3
   },
   "file_extension": ".py",
   "mimetype": "text/x-python",
   "name": "python",
   "nbconvert_exporter": "python",
   "pygments_lexer": "ipython3",
   "version": "3.10.5"
  },
  "orig_nbformat": 4,
  "vscode": {
   "interpreter": {
    "hash": "fb4569285eef3a3450cb62085a5b1e0da4bce0af555edc33dcf29baf3acc1368"
   }
  }
 },
 "nbformat": 4,
 "nbformat_minor": 2
}
