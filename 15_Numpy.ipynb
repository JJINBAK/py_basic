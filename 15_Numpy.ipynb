{
 "cells": [
  {
   "cell_type": "markdown",
   "metadata": {},
   "source": [
    "# Numpy\n",
    "\n",
    "- 수치해석용 Python 라이브러리\n",
    "- CPython에서만 사용가능\n",
    "- ndarray 다차원 행렬 자료 구조 제공\n",
    "- 내부 반복문 사용으로 빠른 행렬 연산 가능\n",
    "- 행렬 인덱싱(array indexing) 기능 제공"
   ]
  },
  {
   "cell_type": "markdown",
   "metadata": {},
   "source": [
    "# List\n",
    "\n",
    "- 여러형태 데이터 저장\n",
    "- 값 추가 제거 가능\n",
    "- 동적할당"
   ]
  },
  {
   "cell_type": "markdown",
   "metadata": {},
   "source": [
    "# Numpy\n",
    "\n",
    "- 한가지 데이터 저장\n",
    "- 계산에 효율적(C기반 for문 내장)\n",
    "- 정적할당 : 고정된 사이즈\n",
    "- 사이즈 변경시 Array 삭제 후 새로운 Array 생성"
   ]
  },
  {
   "cell_type": "code",
   "execution_count": 2,
   "metadata": {},
   "outputs": [
    {
     "data": {
      "text/plain": [
       "list"
      ]
     },
     "execution_count": 2,
     "metadata": {},
     "output_type": "execute_result"
    }
   ],
   "source": [
    "# List 제곱하기\n",
    "\n",
    "x = [10, 20, 30]\n",
    "type(x)"
   ]
  },
  {
   "cell_type": "code",
   "execution_count": 3,
   "metadata": {},
   "outputs": [
    {
     "name": "stdout",
     "output_type": "stream",
     "text": [
      "[10, 20, 30]\n",
      "[100, 400, 900]\n"
     ]
    }
   ],
   "source": [
    "# y=x*x # 리스트는 곱하기가 안된다\n",
    "\n",
    "x[0]*x[0] # 성분별로 곱해줘야함\n",
    "x[1]*x[1]\n",
    "x[2]*x[2]\n",
    "\n",
    "y=[i**2 for i in x]\n",
    "print(x)\n",
    "print(y)"
   ]
  },
  {
   "cell_type": "code",
   "execution_count": 4,
   "metadata": {},
   "outputs": [
    {
     "name": "stdout",
     "output_type": "stream",
     "text": [
      "[20 40 60]\n",
      "[100 400 900]\n"
     ]
    }
   ],
   "source": [
    "# Numpy에서 제곱하기\n",
    "\n",
    "import numpy as np\n",
    "x = np.array([10,20,30])\n",
    "y=x*2\n",
    "print(y)\n",
    "\n",
    "y = x**2\n",
    "print(y)"
   ]
  },
  {
   "cell_type": "code",
   "execution_count": 6,
   "metadata": {},
   "outputs": [
    {
     "name": "stdout",
     "output_type": "stream",
     "text": [
      "[0 1 2 3 4 5 6 7 8 9]\n"
     ]
    },
    {
     "data": {
      "text/plain": [
       "array([11.1, 20. , 30. ])"
      ]
     },
     "execution_count": 6,
     "metadata": {},
     "output_type": "execute_result"
    }
   ],
   "source": [
    "# arange()\n",
    "\n",
    "a = np.arange(10)\n",
    "print(a)\n",
    "a\n",
    "\n",
    "a = np.array([10,20,30], 'float64') # 자료형을 따로 안넣어주면 int32로 들어감\n",
    "a[0] += 1.1\n",
    "a"
   ]
  },
  {
   "cell_type": "code",
   "execution_count": 7,
   "metadata": {},
   "outputs": [
    {
     "data": {
      "text/plain": [
       "(3,)"
      ]
     },
     "execution_count": 7,
     "metadata": {},
     "output_type": "execute_result"
    }
   ],
   "source": [
    "# shape : 행렬의 차원\n",
    "\n",
    "a.shape"
   ]
  },
  {
   "cell_type": "code",
   "execution_count": 8,
   "metadata": {},
   "outputs": [
    {
     "data": {
      "text/plain": [
       "1"
      ]
     },
     "execution_count": 8,
     "metadata": {},
     "output_type": "execute_result"
    }
   ],
   "source": [
    "# ndim : dimension 차원\n",
    "\n",
    "a.ndim"
   ]
  },
  {
   "cell_type": "code",
   "execution_count": 9,
   "metadata": {},
   "outputs": [
    {
     "data": {
      "text/plain": [
       "dtype('float64')"
      ]
     },
     "execution_count": 9,
     "metadata": {},
     "output_type": "execute_result"
    }
   ],
   "source": [
    "# dtype : data type\n",
    "\n",
    "a.dtype"
   ]
  },
  {
   "cell_type": "code",
   "execution_count": 10,
   "metadata": {},
   "outputs": [
    {
     "data": {
      "text/plain": [
       "8"
      ]
     },
     "execution_count": 10,
     "metadata": {},
     "output_type": "execute_result"
    }
   ],
   "source": [
    "# itemsize\n",
    "\n",
    "a.itemsize"
   ]
  },
  {
   "cell_type": "code",
   "execution_count": 11,
   "metadata": {},
   "outputs": [
    {
     "data": {
      "text/plain": [
       "3"
      ]
     },
     "execution_count": 11,
     "metadata": {},
     "output_type": "execute_result"
    }
   ],
   "source": [
    "# size : array 개수\n",
    "\n",
    "a.size"
   ]
  },
  {
   "cell_type": "code",
   "execution_count": 12,
   "metadata": {},
   "outputs": [
    {
     "data": {
      "text/plain": [
       "numpy.ndarray"
      ]
     },
     "execution_count": 12,
     "metadata": {},
     "output_type": "execute_result"
    }
   ],
   "source": [
    "# type()\n",
    "\n",
    "type(a)"
   ]
  },
  {
   "cell_type": "code",
   "execution_count": 13,
   "metadata": {},
   "outputs": [
    {
     "name": "stdout",
     "output_type": "stream",
     "text": [
      "int32\n",
      "float64\n",
      "int32\n",
      "int32\n",
      "[10 20 30]\n"
     ]
    }
   ],
   "source": [
    "# int32/int64\n",
    "\n",
    "a=np.array([10,20,30])\n",
    "b=np.array([10.,20.,30.])\n",
    "print(a.dtype)\n",
    "print(b.dtype)\n",
    "\n",
    "a = np.array([10, 20, 30])\n",
    "print(a.dtype)\n",
    "\n",
    "a[2]= 30.1\n",
    "print(a.dtype) # 중간에 값이 바껴도 처음 만들때 정해진 데이터 타입이 유지\n",
    "print(a)"
   ]
  },
  {
   "cell_type": "code",
   "execution_count": 14,
   "metadata": {},
   "outputs": [
    {
     "name": "stdout",
     "output_type": "stream",
     "text": [
      "int32\n",
      "float64\n",
      "[10.  20.  30.1]\n",
      "int32\n",
      "float64\n",
      "int32\n",
      "[10 20 30]\n"
     ]
    }
   ],
   "source": [
    "# astype : 데이터형 바꾸기\n",
    "\n",
    "a = np.array([10,20,30])\n",
    "print(a.dtype)\n",
    "\n",
    "a=a.astype('float64') # 데이터 타입을 바꿈\n",
    "\n",
    "a[2]= 30.1\n",
    "print(a.dtype)\n",
    "print(a)\n",
    "\n",
    "x = np.array([7,9,11])\n",
    "y = x/2\n",
    "print(x.dtype)\n",
    "print(y.dtype)\n",
    "\n",
    "c=np.array([10.1, 20.1, 30.1], 'int32')\n",
    "print(c.dtype)\n",
    "print(c)"
   ]
  },
  {
   "cell_type": "markdown",
   "metadata": {},
   "source": [
    "# **2진수를 10진수로 변환 사이트**\n",
    "\n",
    "[https://www.rapidtables.com](https://www.rapidtables.com/)\n",
    "\n",
    "- int32 -> 2진수 31자리까지 표현(첫자리는 부호비트)\n",
    "- 가장 큰수를 10진수로 변환하면 2147483647"
   ]
  },
  {
   "cell_type": "code",
   "execution_count": 16,
   "metadata": {},
   "outputs": [
    {
     "data": {
      "text/plain": [
       "array([2147483647])"
      ]
     },
     "execution_count": 16,
     "metadata": {},
     "output_type": "execute_result"
    }
   ],
   "source": [
    "x=np.array([0])\n",
    "x[0]=2147483647\n",
    "x"
   ]
  },
  {
   "cell_type": "code",
   "execution_count": 17,
   "metadata": {},
   "outputs": [
    {
     "name": "stdout",
     "output_type": "stream",
     "text": [
      "[2147483648]\n"
     ]
    }
   ],
   "source": [
    "x=np.array([0],'int64') # 큰수는 애초에 64비트로 선언\n",
    "x[0]=2147483647\n",
    "x[0]+=1\n",
    "print(x)"
   ]
  },
  {
   "cell_type": "code",
   "execution_count": 20,
   "metadata": {},
   "outputs": [
    {
     "data": {
      "text/plain": [
       "array(['10', 'a', '30'], dtype='<U11')"
      ]
     },
     "execution_count": 20,
     "metadata": {},
     "output_type": "execute_result"
    }
   ],
   "source": [
    "# 다차원 array\n",
    "\n",
    "x = np.array([10,'a',30])\n",
    "x"
   ]
  },
  {
   "cell_type": "code",
   "execution_count": 21,
   "metadata": {},
   "outputs": [
    {
     "name": "stdout",
     "output_type": "stream",
     "text": [
      "[[10 20 30]\n",
      " [40 50 60]\n",
      " [70 80 90]]\n",
      "(3, 3)\n",
      "9\n",
      "2\n"
     ]
    }
   ],
   "source": [
    "a = np.array([[10,20,30],[40,50,60],[70,80,90]]) # 대괄호가 2개다? 2차원\n",
    "print(a)\n",
    "print(a.shape)\n",
    "print(a.size)\n",
    "print(a.ndim)"
   ]
  },
  {
   "cell_type": "code",
   "execution_count": 22,
   "metadata": {},
   "outputs": [
    {
     "name": "stdout",
     "output_type": "stream",
     "text": [
      "[[[10]\n",
      "  [20]]\n",
      "\n",
      " [[30]\n",
      "  [40]]]\n",
      "(2, 2, 1)\n",
      "4\n",
      "3\n"
     ]
    }
   ],
   "source": [
    "a=np.array([[[10],[20]],[[30],[40]]])\n",
    "print(a)\n",
    "print(a.shape)\n",
    "print(a.size)\n",
    "print(a.ndim)"
   ]
  },
  {
   "cell_type": "code",
   "execution_count": 23,
   "metadata": {},
   "outputs": [
    {
     "name": "stdout",
     "output_type": "stream",
     "text": [
      "[ 5 10 20 30]\n"
     ]
    }
   ],
   "source": [
    "# insert()\n",
    "\n",
    "a = np.array([10,20,30])\n",
    "a = np.insert(a,0,5)\n",
    "print(a)"
   ]
  },
  {
   "cell_type": "code",
   "execution_count": 24,
   "metadata": {},
   "outputs": [
    {
     "name": "stdout",
     "output_type": "stream",
     "text": [
      "[10 20 30]\n"
     ]
    }
   ],
   "source": [
    "# delete()\n",
    "\n",
    "a = np.delete(a,0)\n",
    "print(a)"
   ]
  },
  {
   "cell_type": "code",
   "execution_count": 25,
   "metadata": {},
   "outputs": [
    {
     "name": "stdout",
     "output_type": "stream",
     "text": [
      "[0 1 2]\n",
      "\n",
      "[[0. 0. 0.]\n",
      " [0. 0. 0.]]\n",
      "\n",
      "[[1. 1. 1.]\n",
      " [1. 1. 1.]]\n",
      "\n",
      "[0.   0.25 0.5  0.75 1.  ]\n",
      "\n"
     ]
    }
   ],
   "source": [
    "# zeros(), ones(), linspace()\n",
    "\n",
    "a=np.arange(3)\n",
    "print(a)\n",
    "print( )\n",
    "a=np.zeros([2,3])\n",
    "print(a)\n",
    "print( )\n",
    "a=np.ones([2,3])\n",
    "print(a)\n",
    "print( )\n",
    "a=np.linspace(0,1,5)\n",
    "print(a)\n",
    "print( )"
   ]
  },
  {
   "cell_type": "code",
   "execution_count": 26,
   "metadata": {},
   "outputs": [
    {
     "name": "stdout",
     "output_type": "stream",
     "text": [
      "[11 22 33]\n",
      "[ 9 18 27]\n"
     ]
    }
   ],
   "source": [
    "# 연산\n",
    "\n",
    "a = np.array([10,20,30])\n",
    "b = np.array([1,2,3])\n",
    "c = a+b\n",
    "print(c)\n",
    "c = a-b\n",
    "print(c)"
   ]
  },
  {
   "cell_type": "code",
   "execution_count": 27,
   "metadata": {},
   "outputs": [
    {
     "name": "stdout",
     "output_type": "stream",
     "text": [
      "[ True  True  True]\n",
      "[ True False False]\n",
      "<class 'numpy.ndarray'>\n"
     ]
    }
   ],
   "source": [
    "idx = b<20 # 행렬 데이터 들고와서 필터링할때 쓸수 있음\n",
    "print(idx)\n",
    "\n",
    "idx = a<20\n",
    "print(idx)\n",
    "print(type(idx))"
   ]
  },
  {
   "cell_type": "code",
   "execution_count": 28,
   "metadata": {},
   "outputs": [
    {
     "name": "stdout",
     "output_type": "stream",
     "text": [
      "[11 21 31]\n",
      "<class 'numpy.ndarray'>\n"
     ]
    }
   ],
   "source": [
    "a = np.array([10,20,30])\n",
    "a += 1 # c에서는 안된다..? 리스트에 더하기\n",
    "print(a)\n",
    "print(type(a))"
   ]
  },
  {
   "cell_type": "code",
   "execution_count": 29,
   "metadata": {},
   "outputs": [],
   "source": [
    "a = np.array([10,20,30])\n",
    "b = np.array([1.,2.,3.])\n",
    "a = a.astype('float64') # 이거 없으면 에러난다(int+float 이라서)\n",
    "a+=b\n"
   ]
  },
  {
   "cell_type": "code",
   "execution_count": 30,
   "metadata": {},
   "outputs": [
    {
     "name": "stdout",
     "output_type": "stream",
     "text": [
      "[11 22 33]\n",
      "[ 9 18 27]\n"
     ]
    }
   ],
   "source": [
    "# 연산함수\n",
    "\n",
    "a = np.array([10,20,30])\n",
    "b = np.array([1,2,3])\n",
    "print(np.add(a,b))\n",
    "print(np.subtract(a,b))"
   ]
  },
  {
   "cell_type": "code",
   "execution_count": 31,
   "metadata": {},
   "outputs": [
    {
     "name": "stdout",
     "output_type": "stream",
     "text": [
      "20.0\n",
      "20.0\n"
     ]
    }
   ],
   "source": [
    "a=np.array([10,20,30])\n",
    "print(np.mean(a))\n",
    "print(a.mean())"
   ]
  },
  {
   "cell_type": "code",
   "execution_count": 32,
   "metadata": {},
   "outputs": [
    {
     "data": {
      "text/plain": [
       "15.0"
      ]
     },
     "execution_count": 32,
     "metadata": {},
     "output_type": "execute_result"
    }
   ],
   "source": [
    "a = np.array([10,20,30])\n",
    "np.average(a,weights=[1,1,0]) # a와 weights 사이에 콤마(,)이다!! 기본값은 [1,1,1]"
   ]
  },
  {
   "cell_type": "code",
   "execution_count": 33,
   "metadata": {},
   "outputs": [
    {
     "data": {
      "text/plain": [
       "20.0"
      ]
     },
     "execution_count": 33,
     "metadata": {},
     "output_type": "execute_result"
    }
   ],
   "source": [
    "a = np.array([10,20,30])\n",
    "np.median(a)"
   ]
  },
  {
   "cell_type": "code",
   "execution_count": 34,
   "metadata": {},
   "outputs": [
    {
     "data": {
      "text/plain": [
       "array([10., 10., 15., 20., 30.])"
      ]
     },
     "execution_count": 34,
     "metadata": {},
     "output_type": "execute_result"
    }
   ],
   "source": [
    "x=np.array([10.,20.,30.,15.,10])\n",
    "y=np.sort(x)\n",
    "y"
   ]
  },
  {
   "cell_type": "code",
   "execution_count": 35,
   "metadata": {},
   "outputs": [
    {
     "data": {
      "text/plain": [
       "30"
      ]
     },
     "execution_count": 35,
     "metadata": {},
     "output_type": "execute_result"
    }
   ],
   "source": [
    "a = np.array([10,20,30])\n",
    "a.min()\n",
    "a.max()"
   ]
  },
  {
   "cell_type": "code",
   "execution_count": 36,
   "metadata": {},
   "outputs": [
    {
     "name": "stdout",
     "output_type": "stream",
     "text": [
      "[1 2 3 4 5 6]\n",
      "[[1 2 3]\n",
      " [4 5 6]]\n",
      "[ 1.  2.  3.  4.  5.  6.  7.  8.  9. 10.]\n",
      "[[ 1.  2.  3.  4.  5.]\n",
      " [ 6.  7.  8.  9. 10.]]\n"
     ]
    }
   ],
   "source": [
    "# reshape\n",
    "\n",
    "a = np.arange(1,7,1)\n",
    "print(a)\n",
    "\n",
    "b = a.reshape(2,3)\n",
    "print(b)\n",
    "\n",
    "c = np.linspace(1,10,10)\n",
    "print(c)\n",
    "\n",
    "d=np.linspace(1,10,10).reshape(2,5)\n",
    "print(d)"
   ]
  },
  {
   "cell_type": "code",
   "execution_count": 37,
   "metadata": {},
   "outputs": [
    {
     "name": "stdout",
     "output_type": "stream",
     "text": [
      "[1 1 2 2 3 3 4 4]\n",
      "[[1 2]\n",
      " [1 2]\n",
      " [3 4]\n",
      " [3 4]]\n",
      "[[1 1 2 2]\n",
      " [3 3 4 4]]\n",
      "[[1 2]\n",
      " [3 4]\n",
      " [3 4]]\n",
      "[[1 1 1 2]\n",
      " [3 3 3 4]]\n"
     ]
    }
   ],
   "source": [
    "# repeat\n",
    "\n",
    "a = np.array([[1,2],[3,4]])\n",
    "b = np.repeat(a,2)\n",
    "print(b)\n",
    "\n",
    "a = np.array([[1,2],[3,4]])\n",
    "b = np.repeat(a,2,axis=0)\n",
    "print(b)\n",
    "\n",
    "a = np.array([[1,2],[3,4]])\n",
    "b = np.repeat(a,2,axis=1)\n",
    "print(b)\n",
    "\n",
    "a = np.array([[1,2],[3,4]])\n",
    "b = np.repeat(a,[1,2],axis=0) # 세로로 [1,2]를 1번 [3,4]를 2번\n",
    "print(b)\n",
    "\n",
    "a = np.array([[1,2],[3,4]])\n",
    "b = np.repeat(a,[3,1],axis=1) # 가로로 [1,2]를 3번 [3,4]를 1번\n",
    "print(b)"
   ]
  },
  {
   "cell_type": "code",
   "execution_count": 38,
   "metadata": {},
   "outputs": [
    {
     "data": {
      "text/plain": [
       "array([[ 10,  20,  30],\n",
       "       [ 80, 100, 120],\n",
       "       [210, 240, 270]])"
      ]
     },
     "execution_count": 38,
     "metadata": {},
     "output_type": "execute_result"
    }
   ],
   "source": [
    "A=np.array([[10,20,30],[40,50,60],[70,80,90]])\n",
    "B=np.array([[1],[2],[3]])\n",
    "B=B.repeat(3,axis=1)\n",
    "A*B"
   ]
  },
  {
   "cell_type": "markdown",
   "metadata": {},
   "source": [
    "# Broadcasting\n",
    "\n",
    "### Shape이 같은 두 ndarray에 대한 연산은 각 원소별로 진행\n",
    "\n",
    "### 연산되는 두 ndarray가 다른 shape을 갖는 경우 브로드캐스팅 후 진행"
   ]
  },
  {
   "cell_type": "code",
   "execution_count": 40,
   "metadata": {},
   "outputs": [
    {
     "data": {
      "text/plain": [
       "array([[ 10,  20,  30],\n",
       "       [ 80, 100, 120],\n",
       "       [210, 240, 270]])"
      ]
     },
     "execution_count": 40,
     "metadata": {},
     "output_type": "execute_result"
    }
   ],
   "source": [
    "A=np.array([[10,20,30],[40,50,60],[70,80,90]])\n",
    "B=np.array([[1],[2],[3]])\n",
    "C=A*B\n",
    "C"
   ]
  },
  {
   "cell_type": "code",
   "execution_count": null,
   "metadata": {},
   "outputs": [],
   "source": []
  }
 ],
 "metadata": {
  "kernelspec": {
   "display_name": "Python 3.10.5 64-bit",
   "language": "python",
   "name": "python3"
  },
  "language_info": {
   "codemirror_mode": {
    "name": "ipython",
    "version": 3
   },
   "file_extension": ".py",
   "mimetype": "text/x-python",
   "name": "python",
   "nbconvert_exporter": "python",
   "pygments_lexer": "ipython3",
   "version": "3.10.5"
  },
  "orig_nbformat": 4,
  "vscode": {
   "interpreter": {
    "hash": "fb4569285eef3a3450cb62085a5b1e0da4bce0af555edc33dcf29baf3acc1368"
   }
  }
 },
 "nbformat": 4,
 "nbformat_minor": 2
}
