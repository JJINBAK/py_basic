{
 "cells": [
  {
   "cell_type": "markdown",
   "metadata": {},
   "source": [
    "# **딕셔너리**\n",
    "\n",
    "- 딕셔너리는 리스트나 튜플처럼 순차적으로(sequential) 해당 요소값을 구하지 않고 Key를 통해 Value를 얻는다\n",
    "- {Key1:Value1, Key2:Value2, ...}\n",
    "- ※ Key에는 변하지 않는 값을 사용하고, Value에는 변하는 값과 변하지 않는 값 모두 사용할 수 있다."
   ]
  },
  {
   "cell_type": "code",
   "execution_count": 1,
   "metadata": {},
   "outputs": [
    {
     "name": "stdout",
     "output_type": "stream",
     "text": [
      "{'apple': '사과', 'banana': '바나나', 'peach': '복숭아'}\n"
     ]
    }
   ],
   "source": [
    "a = {'apple':'사과', 'banana':'바나나'}\n",
    "a['peach'] = '복숭아'\n",
    "print(a)"
   ]
  },
  {
   "cell_type": "code",
   "execution_count": 2,
   "metadata": {},
   "outputs": [
    {
     "name": "stdout",
     "output_type": "stream",
     "text": [
      "{'과학': '90'}\n"
     ]
    }
   ],
   "source": [
    "a = {}\n",
    "b = input('과목을 입력하세요 : ')\n",
    "c = input('점수를 입력하ㅔ요 : ')\n",
    "a[b] = c\n",
    "print(a)"
   ]
  },
  {
   "cell_type": "code",
   "execution_count": 3,
   "metadata": {},
   "outputs": [
    {
     "name": "stdout",
     "output_type": "stream",
     "text": [
      "{'apple': '사과', 'banana': '바나나', 'strawberry': '딸기'}\n"
     ]
    }
   ],
   "source": [
    "a = {'apple':'사과', 'banana':'바나나', 'peach':'복숭아', 'strawberry':'딸기'}\n",
    "del a['peach'] # 키 값을 써주면 삭제할 수 있음\n",
    "print(a)"
   ]
  },
  {
   "cell_type": "code",
   "execution_count": 4,
   "metadata": {},
   "outputs": [
    {
     "name": "stdout",
     "output_type": "stream",
     "text": [
      "바나나\n"
     ]
    }
   ],
   "source": [
    "a = {'apple':'사과', 'banana':'바나나', 'peach':'복숭아', 'strawberry':'딸기'}\n",
    "print(a['banana']) # key가 인덱스의 역할을 한다고 보면됨"
   ]
  },
  {
   "cell_type": "code",
   "execution_count": 5,
   "metadata": {},
   "outputs": [
    {
     "name": "stdout",
     "output_type": "stream",
     "text": [
      "콜라의 금액은 3000원 입니다.\n"
     ]
    }
   ],
   "source": [
    "# 메뉴 입력하면 금액 알려주기\n",
    "\n",
    "a = {'아메리카노':4000, '카페라떼':5000, '오렌지쥬스':5000, '콜라':3000}\n",
    "b = input('메뉴를 입력하면 금액을 알려드립니다 : ')\n",
    "print(f'{b}의 금액은 {a[b]}원 입니다.') # f-string으로 변수 표현"
   ]
  },
  {
   "cell_type": "code",
   "execution_count": 6,
   "metadata": {},
   "outputs": [
    {
     "name": "stdout",
     "output_type": "stream",
     "text": [
      "복숭아\n"
     ]
    }
   ],
   "source": [
    "# Key로 Value값 얻기\n",
    "\n",
    "a = {'apple':'사과', 'banana':'바나나', 'peach':'복숭아', 'strawberry':'딸기'}\n",
    "print(a.get('peach'))\n",
    "\n",
    "# Key에는 리스트형태 불가\n",
    "# Value에 리스트 가능"
   ]
  },
  {
   "cell_type": "code",
   "execution_count": 7,
   "metadata": {},
   "outputs": [
    {
     "name": "stdout",
     "output_type": "stream",
     "text": [
      "dict_keys(['apple', 'banana', 'peach', 'strawberry'])\n",
      "<class 'dict_keys'>\n",
      "['apple', 'banana', 'peach', 'strawberry']\n",
      "<class 'list'>\n",
      "시험본 과목은 ['국어', '영어', '수학', '과학', '역사'] 입니다.\n"
     ]
    }
   ],
   "source": [
    "# dict_keys 객체생성 keys()\n",
    "\n",
    "a = {'apple':'사과', 'banana':'바나나', 'peach':'복숭아', 'strawberry':'딸기'}\n",
    "b = a.keys()\n",
    "print(b)\n",
    "print(type(b))\n",
    "b = list(a.keys())\n",
    "print(b)\n",
    "print(type(b))\n",
    "\n",
    "a = {\"국어\":80, \"영어\":90, \"수학\":100, \"과학\":95, \"역사\":75}\n",
    "d = list(a.keys())\n",
    "print(f'시험본 과목은 {d} 입니다.')"
   ]
  },
  {
   "cell_type": "code",
   "execution_count": 8,
   "metadata": {},
   "outputs": [
    {
     "name": "stdout",
     "output_type": "stream",
     "text": [
      "dict_values(['사과', '바나나', '복숭아', '딸기'])\n",
      "<class 'dict_values'>\n",
      "['사과', '바나나', '복숭아', '딸기']\n",
      "<class 'list'>\n",
      "총점은 440, 평균은 88.0 입니다.\n"
     ]
    }
   ],
   "source": [
    "# dict_values 객체생성 values()\n",
    "\n",
    "a = {'apple':'사과', 'banana':'바나나', 'peach':'복숭아', 'strawberry':'딸기'}\n",
    "b = a.values()\n",
    "print(b)\n",
    "print(type(b))\n",
    "b = list(a.values())\n",
    "print(b)\n",
    "print(type(b))\n",
    "\n",
    "a = {\"국어\":80, \"영어\":90, \"수학\":100, \"과학\":95, \"역사\":75}\n",
    "d = list(a.values())\n",
    "print(f'총점은 {sum(d)}, 평균은 {sum(d)/len(d)} 입니다.')"
   ]
  },
  {
   "cell_type": "code",
   "execution_count": 9,
   "metadata": {},
   "outputs": [
    {
     "name": "stdout",
     "output_type": "stream",
     "text": [
      "dict_items([('apple', '사과'), ('banana', '바나나'), ('peach', '복숭아'), ('strawberry', '딸기')])\n",
      "<class 'dict_items'>\n",
      "[('apple', '사과'), ('banana', '바나나'), ('peach', '복숭아'), ('strawberry', '딸기')]\n",
      "<class 'list'>\n"
     ]
    }
   ],
   "source": [
    "# key, value 쌍으로 얻기\n",
    "\n",
    "a = {'apple':'사과', 'banana':'바나나', 'peach':'복숭아', 'strawberry':'딸기'}\n",
    "b = a.items()\n",
    "print(b)\n",
    "print(type(b))\n",
    "b = list(a.items()) # key-value pair가 깨어지면 안되므로 list로 바꾸면 tuple 형태로 key-value가 존재\n",
    "print(b)\n",
    "print(type(b))"
   ]
  },
  {
   "cell_type": "code",
   "execution_count": 10,
   "metadata": {},
   "outputs": [
    {
     "name": "stdout",
     "output_type": "stream",
     "text": [
      "True\n"
     ]
    }
   ],
   "source": [
    "# 해당 key가 있는지 확인\n",
    "\n",
    "a = {'apple':'사과', 'banana':'바나나', 'peach':'복숭아', 'strawberry':'딸기'}\n",
    "print('peach' in a)"
   ]
  },
  {
   "cell_type": "code",
   "execution_count": null,
   "metadata": {},
   "outputs": [],
   "source": []
  }
 ],
 "metadata": {
  "kernelspec": {
   "display_name": "Python 3.10.5 64-bit",
   "language": "python",
   "name": "python3"
  },
  "language_info": {
   "codemirror_mode": {
    "name": "ipython",
    "version": 3
   },
   "file_extension": ".py",
   "mimetype": "text/x-python",
   "name": "python",
   "nbconvert_exporter": "python",
   "pygments_lexer": "ipython3",
   "version": "3.10.5"
  },
  "orig_nbformat": 4,
  "vscode": {
   "interpreter": {
    "hash": "fb4569285eef3a3450cb62085a5b1e0da4bce0af555edc33dcf29baf3acc1368"
   }
  }
 },
 "nbformat": 4,
 "nbformat_minor": 2
}
